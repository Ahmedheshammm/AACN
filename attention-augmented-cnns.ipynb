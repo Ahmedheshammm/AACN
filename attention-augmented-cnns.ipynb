{
 "cells": [
  {
   "cell_type": "code",
   "execution_count": 39,
   "metadata": {
    "execution": {
     "iopub.execute_input": "2025-05-25T05:13:05.921792Z",
     "iopub.status.busy": "2025-05-25T05:13:05.920929Z",
     "iopub.status.idle": "2025-05-25T05:13:05.925961Z",
     "shell.execute_reply": "2025-05-25T05:13:05.925236Z",
     "shell.execute_reply.started": "2025-05-25T05:13:05.921766Z"
    },
    "trusted": true
   },
   "outputs": [],
   "source": [
    "import torch\n",
    "import torch.nn as nn\n",
    "import torch.nn.functional as F\n",
    "import torch.optim as optim\n",
    "from torch.utils.data import DataLoader\n",
    "import torchvision\n",
    "import torchvision.transforms as transforms\n",
    "\n",
    "import numpy as np\n",
    "import matplotlib.pyplot as plt\n",
    "import seaborn as sns\n",
    "from tqdm import tqdm\n",
    "import warnings\n",
    "warnings.filterwarnings('ignore')"
   ]
  },
  {
   "cell_type": "code",
   "execution_count": 40,
   "metadata": {
    "execution": {
     "iopub.execute_input": "2025-05-25T05:13:08.221377Z",
     "iopub.status.busy": "2025-05-25T05:13:08.220903Z",
     "iopub.status.idle": "2025-05-25T05:13:08.225262Z",
     "shell.execute_reply": "2025-05-25T05:13:08.224529Z",
     "shell.execute_reply.started": "2025-05-25T05:13:08.221352Z"
    },
    "trusted": true
   },
   "outputs": [
    {
     "name": "stdout",
     "output_type": "stream",
     "text": [
      "Using device: cuda\n"
     ]
    }
   ],
   "source": [
    "# Set device\n",
    "device = torch.device('cuda' if torch.cuda.is_available() else 'cpu')\n",
    "print(f\"Using device: {device}\")"
   ]
  },
  {
   "cell_type": "code",
   "execution_count": 41,
   "metadata": {
    "execution": {
     "iopub.execute_input": "2025-05-25T05:13:10.041896Z",
     "iopub.status.busy": "2025-05-25T05:13:10.041632Z",
     "iopub.status.idle": "2025-05-25T05:13:10.047035Z",
     "shell.execute_reply": "2025-05-25T05:13:10.046344Z",
     "shell.execute_reply.started": "2025-05-25T05:13:10.041876Z"
    },
    "trusted": true
   },
   "outputs": [],
   "source": [
    "# Set random seeds for reproducibility\n",
    "torch.manual_seed(42)\n",
    "np.random.seed(42)"
   ]
  },
  {
   "cell_type": "markdown",
   "metadata": {},
   "source": [
    "# Attention Augmented Convolution Module"
   ]
  },
  {
   "cell_type": "code",
   "execution_count": 80,
   "metadata": {
    "execution": {
     "iopub.execute_input": "2025-05-25T05:40:23.825086Z",
     "iopub.status.busy": "2025-05-25T05:40:23.824731Z",
     "iopub.status.idle": "2025-05-25T05:40:23.845633Z",
     "shell.execute_reply": "2025-05-25T05:40:23.845135Z",
     "shell.execute_reply.started": "2025-05-25T05:40:23.825048Z"
    },
    "trusted": true
   },
   "outputs": [],
   "source": [
    "class AttentionAugmentedConv2d(nn.Module):\n",
    "    \"\"\"\n",
    "    Attention Augmented Convolution as described in:\n",
    "    \"Attention Augmented Convolutional Networks\" (Bello et al., 2019)\n",
    "    \"\"\"\n",
    "    def __init__(self, in_channels, out_channels, kernel_size, stride=1, \n",
    "                 padding=0, groups=1, bias=False, v=0.2, k=0.2):\n",
    "        super(AttentionAugmentedConv2d, self).__init__()\n",
    "        \n",
    "        # v: ratio of attention output channels to total output channels\n",
    "        # k: ratio of key/query channels to input channels\n",
    "        self.in_channels = in_channels\n",
    "        self.out_channels = out_channels\n",
    "        self.kernel_size = kernel_size\n",
    "        self.stride = stride\n",
    "        self.padding = padding\n",
    "        self.groups = groups\n",
    "        self.bias = bias\n",
    "        self.v = v\n",
    "        self.k = k\n",
    "        \n",
    "        # Calculate channel splits - FIXED to ensure exact total\n",
    "        self.attn_out_channels = int(out_channels * v)\n",
    "        self.conv_out_channels = out_channels - self.attn_out_channels  # This ensures exact total\n",
    "        self.kq_channels = max(1, int(in_channels * k))\n",
    "        \n",
    "        # Ensure at least 1 channel for each component\n",
    "        self.conv_out_channels = max(1, self.conv_out_channels)\n",
    "        self.attn_out_channels = max(1, self.attn_out_channels)\n",
    "        \n",
    "        # If both are forced to at least 1 and that exceeds out_channels, adjust\n",
    "        if self.conv_out_channels + self.attn_out_channels > out_channels:\n",
    "            self.attn_out_channels = max(1, out_channels // 2)\n",
    "            self.conv_out_channels = out_channels - self.attn_out_channels\n",
    "        \n",
    "        # Standard convolution branch\n",
    "        self.conv = nn.Conv2d(in_channels, self.conv_out_channels, kernel_size, \n",
    "                             stride=stride, padding=padding, groups=groups, bias=bias)\n",
    "        \n",
    "        # Attention branch\n",
    "        self.query_conv = nn.Conv2d(in_channels, self.kq_channels, 1, bias=False)\n",
    "        self.key_conv = nn.Conv2d(in_channels, self.kq_channels, 1, bias=False)\n",
    "        self.value_conv = nn.Conv2d(in_channels, self.attn_out_channels, 1, bias=False)\n",
    "        \n",
    "        # Positional encoding for relative attention\n",
    "        self.rel_h = nn.Parameter(torch.randn(self.kq_channels, 1, 1), requires_grad=True)\n",
    "        self.rel_w = nn.Parameter(torch.randn(self.kq_channels, 1, 1), requires_grad=True)\n",
    "        \n",
    "        # Initialize parameters\n",
    "        self._init_weights()\n",
    "        \n",
    "    def _init_weights(self):\n",
    "        nn.init.kaiming_normal_(self.conv.weight, mode='fan_out', nonlinearity='relu')\n",
    "        nn.init.kaiming_normal_(self.query_conv.weight, mode='fan_out', nonlinearity='relu')\n",
    "        nn.init.kaiming_normal_(self.key_conv.weight, mode='fan_out', nonlinearity='relu')\n",
    "        nn.init.kaiming_normal_(self.value_conv.weight, mode='fan_out', nonlinearity='relu')\n",
    "    \n",
    "    def forward(self, x):\n",
    "        batch_size, _, height, width = x.size()\n",
    "        \n",
    "        # Standard convolution branch\n",
    "        conv_out = self.conv(x)\n",
    "        \n",
    "        # Get output dimensions from conv\n",
    "        _, _, h_out, w_out = conv_out.size()\n",
    "        \n",
    "        # Attention branch - resize input to match conv output if needed\n",
    "        if self.stride > 1:\n",
    "            x_attn = F.avg_pool2d(x, kernel_size=self.stride, stride=self.stride)\n",
    "        else:\n",
    "            x_attn = x\n",
    "            \n",
    "        # Further resize if dimensions don't match\n",
    "        if x_attn.size(2) != h_out or x_attn.size(3) != w_out:\n",
    "            x_attn = F.adaptive_avg_pool2d(x_attn, (h_out, w_out))\n",
    "        \n",
    "        # Compute queries, keys, values\n",
    "        queries = self.query_conv(x_attn)  # [B, kq_channels, H, W]\n",
    "        keys = self.key_conv(x_attn)       # [B, kq_channels, H, W]\n",
    "        values = self.value_conv(x_attn)   # [B, attn_out_channels, H, W]\n",
    "        \n",
    "        # Reshape for attention computation\n",
    "        queries = queries.view(batch_size, self.kq_channels, -1)  # [B, kq_channels, HW]\n",
    "        keys = keys.view(batch_size, self.kq_channels, -1)        # [B, kq_channels, HW]\n",
    "        values = values.view(batch_size, self.attn_out_channels, -1)  # [B, attn_out_channels, HW]\n",
    "        \n",
    "        # Compute attention scores: Q^T @ K\n",
    "        attention_scores = torch.bmm(queries.transpose(1, 2), keys)  # [B, HW, HW]\n",
    "        \n",
    "        # Add relative positional encoding (simplified)\n",
    "        rel_logits_w = self._relative_logits_1d(queries, self.rel_w, h_out, w_out, transpose=True)\n",
    "        rel_logits_h = self._relative_logits_1d(queries, self.rel_h, h_out, w_out, transpose=False)\n",
    "        \n",
    "        # Add relative logits to attention scores\n",
    "        attention_scores = attention_scores + rel_logits_h.unsqueeze(2) + rel_logits_w.unsqueeze(1)\n",
    "        \n",
    "        # Apply softmax\n",
    "        attention_weights = F.softmax(attention_scores / (self.kq_channels ** 0.5), dim=-1)\n",
    "        \n",
    "        # Apply attention to values: V @ A^T\n",
    "        attended_values = torch.bmm(values, attention_weights.transpose(1, 2))  # [B, attn_out_channels, HW]\n",
    "        attended_values = attended_values.view(batch_size, self.attn_out_channels, h_out, w_out)\n",
    "        \n",
    "        # Concatenate conv and attention outputs\n",
    "        output = torch.cat([conv_out, attended_values], dim=1)\n",
    "        \n",
    "        # Verify output has correct number of channels\n",
    "        assert output.size(1) == self.out_channels, f\"Output channels mismatch: expected {self.out_channels}, got {output.size(1)}\"\n",
    "        \n",
    "        return output\n",
    "    \n",
    "    def _relative_logits_1d(self, q, rel_k, H, W, transpose=False):\n",
    "        \"\"\"Compute relative position logits for 1D case.\"\"\"\n",
    "        batch_size = q.size(0)\n",
    "        \n",
    "        if transpose:\n",
    "            # q: [B, kq_channels, HW] -> [B, HW, kq_channels]\n",
    "            q_t = q.transpose(1, 2)  # [B, HW, kq_channels]\n",
    "            # Reshape for width-wise relative attention\n",
    "            q_reshaped = q_t.view(batch_size, H, W, self.kq_channels)\n",
    "            # Compute relative logits: [B, H, W, kq_channels] x [kq_channels, 1, 1] -> [B, H, W]\n",
    "            rel_logits = torch.sum(q_reshaped * rel_k.view(1, 1, 1, self.kq_channels), dim=-1)\n",
    "            rel_logits = rel_logits.view(batch_size, H * W)\n",
    "        else:\n",
    "            # q: [B, kq_channels, HW]\n",
    "            q_reshaped = q.view(batch_size, self.kq_channels, H, W)\n",
    "            # Compute relative logits: [B, kq_channels, H, W] x [kq_channels, 1, 1] -> [B, H, W]\n",
    "            rel_logits = torch.sum(q_reshaped * rel_k.view(1, self.kq_channels, 1, 1), dim=1)\n",
    "            rel_logits = rel_logits.view(batch_size, H * W)\n",
    "        \n",
    "        return rel_logits\n"
   ]
  },
  {
   "cell_type": "markdown",
   "metadata": {},
   "source": [
    "# ResNet with Attention Augmented Convolutions"
   ]
  },
  {
   "cell_type": "code",
   "execution_count": null,
   "metadata": {
    "execution": {
     "iopub.execute_input": "2025-05-25T06:53:35.523241Z",
     "iopub.status.busy": "2025-05-25T06:53:35.522970Z",
     "iopub.status.idle": "2025-05-25T06:53:35.537945Z",
     "shell.execute_reply": "2025-05-25T06:53:35.537195Z",
     "shell.execute_reply.started": "2025-05-25T06:53:35.523221Z"
    },
    "trusted": true
   },
   "outputs": [],
   "source": [
    "class AttentionAugmentedBottleneck(nn.Module):\n",
    "    \"\"\"Bottleneck block with attention augmented convolution\"\"\"\n",
    "    expansion = 4\n",
    "    \n",
    "    def __init__(self, inplanes, planes, stride=1, downsample=None, v=0.2, k=0.2):\n",
    "        super(AttentionAugmentedBottleneck, self).__init__()\n",
    "        \n",
    "        self.conv1 = nn.Conv2d(inplanes, planes, kernel_size=1, bias=False)\n",
    "        self.bn1 = nn.BatchNorm2d(planes)\n",
    "        \n",
    "        # Use attention augmented conv for the 3x3 layer\n",
    "        self.conv2 = AttentionAugmentedConv2d(\n",
    "            planes, planes, kernel_size=3, stride=stride, padding=1, v=v, k=k\n",
    "        )\n",
    "        self.bn2 = nn.BatchNorm2d(planes)\n",
    "        \n",
    "        self.conv3 = nn.Conv2d(planes, planes * self.expansion, kernel_size=1, bias=False)\n",
    "        self.bn3 = nn.BatchNorm2d(planes * self.expansion)\n",
    "        \n",
    "        self.relu = nn.ReLU(inplace=True)\n",
    "        self.downsample = downsample\n",
    "        self.stride = stride\n",
    "    \n",
    "    def forward(self, x):\n",
    "        residual = x\n",
    "        \n",
    "        out = self.conv1(x)\n",
    "        out = self.bn1(out)\n",
    "        out = self.relu(out)\n",
    "        \n",
    "        out = self.conv2(out)\n",
    "        out = self.bn2(out)\n",
    "        out = self.relu(out)\n",
    "        \n",
    "        out = self.conv3(out)\n",
    "        out = self.bn3(out)\n",
    "        \n",
    "        if self.downsample is not None:\n",
    "            residual = self.downsample(x)\n",
    "        \n",
    "        out += residual\n",
    "        out = self.relu(out)\n",
    "        \n",
    "        return out\n",
    "\n",
    "\n",
    "\n",
    "class AttentionAugmentedResNet(nn.Module):\n",
    "    \"\"\"ResNet with Attention Augmented Convolutions\"\"\"\n",
    "    \n",
    "    def __init__(self, block, layers, num_classes=10, v=0.1, k=0.2):\n",
    "        super(AttentionAugmentedResNet, self).__init__()\n",
    "    \n",
    "        self.inplanes = 64\n",
    "        self.v = v\n",
    "        self.k = k\n",
    "        \n",
    "        # CIFAR-10 optimized initial layers (smaller input size)\n",
    "        self.conv1 = nn.Conv2d(3, 64, kernel_size=3, stride=1, padding=1, bias=False)  # Changed for CIFAR\n",
    "        self.bn1 = nn.BatchNorm2d(64)\n",
    "        self.relu = nn.ReLU(inplace=True)\n",
    "        # Remove maxpool for CIFAR-10 (too aggressive downsampling)\n",
    "        \n",
    "        # ResNet layers with attention\n",
    "        self.layer1 = self._make_layer(block, 64, layers[0])\n",
    "        self.layer2 = self._make_layer(block, 128, layers[1], stride=2)\n",
    "        self.layer3 = self._make_layer(block, 256, layers[2], stride=2)\n",
    "        self.layer4 = self._make_layer(block, 512, layers[3], stride=2)\n",
    "        \n",
    "        # Final layers\n",
    "        self.avgpool = nn.AdaptiveAvgPool2d((1, 1))\n",
    "        self.fc = nn.Linear(512 * block.expansion, num_classes)\n",
    "        \n",
    "        # Dropout for regularization\n",
    "        self.dropout = nn.Dropout(0.1)\n",
    "        \n",
    "        # Initialize weights\n",
    "        self._init_weights()\n",
    "    \n",
    "    def _init_weights(self):\n",
    "        for m in self.modules():\n",
    "            if isinstance(m, nn.Conv2d):\n",
    "                nn.init.kaiming_normal_(m.weight, mode='fan_out', nonlinearity='relu')\n",
    "            elif isinstance(m, nn.BatchNorm2d):\n",
    "                nn.init.constant_(m.weight, 1)\n",
    "                nn.init.constant_(m.bias, 0)\n",
    "    \n",
    "    def _make_layer(self, block, planes, blocks, stride=1):\n",
    "        downsample = None\n",
    "        if stride != 1 or self.inplanes != planes * block.expansion:\n",
    "            downsample = nn.Sequential(\n",
    "                nn.Conv2d(self.inplanes, planes * block.expansion,\n",
    "                         kernel_size=1, stride=stride, bias=False),\n",
    "                nn.BatchNorm2d(planes * block.expansion),\n",
    "            )\n",
    "        \n",
    "        layers = []\n",
    "        layers.append(block(self.inplanes, planes, stride, downsample, self.v, self.k))\n",
    "        self.inplanes = planes * block.expansion\n",
    "        for _ in range(1, blocks):\n",
    "            layers.append(block(self.inplanes, planes, v=self.v, k=self.k))\n",
    "        \n",
    "        return nn.Sequential(*layers)\n",
    "    \n",
    "    \n",
    "    def forward(self, x):\n",
    "        x = self.conv1(x)\n",
    "        x = self.bn1(x)\n",
    "        x = self.relu(x)\n",
    "        # No maxpool for CIFAR-10\n",
    "        \n",
    "        x = self.layer1(x)\n",
    "        x = self.layer2(x)\n",
    "        x = self.layer3(x)\n",
    "        x = self.layer4(x)\n",
    "        \n",
    "        x = self.avgpool(x)\n",
    "        x = torch.flatten(x, 1)\n",
    "        x = self.dropout(x)  # Add dropout before final layer\n",
    "        x = self.fc(x)\n",
    "        return x\n",
    "\n"
   ]
  },
  {
   "cell_type": "code",
   "execution_count": null,
   "metadata": {
    "execution": {
     "iopub.execute_input": "2025-05-25T06:50:24.831502Z",
     "iopub.status.busy": "2025-05-25T06:50:24.830731Z",
     "iopub.status.idle": "2025-05-25T06:50:25.072711Z",
     "shell.execute_reply": "2025-05-25T06:50:25.071893Z",
     "shell.execute_reply.started": "2025-05-25T06:50:24.831449Z"
    },
    "trusted": true
   },
   "outputs": [
    {
     "name": "stdout",
     "output_type": "stream",
     "text": [
      "Model parameters: 13,693,506\n"
     ]
    }
   ],
   "source": [
    "\n",
    "\n",
    "def create_aa_resnet18(num_classes=10, v=0.1, k=0.2):\n",
    "    \"\"\"Create ResNet18 with Attention Augmented Convolutions - better for CIFAR-10\"\"\"\n",
    "    return AttentionAugmentedResNet(AttentionAugmentedBottleneck, [2, 2, 2, 2], \n",
    "                                   num_classes=num_classes, v=v, k=k)\n",
    "\n",
    "\n",
    "print(f\"Model parameters: {count_parameters(model):,}\")"
   ]
  },
  {
   "cell_type": "markdown",
   "metadata": {},
   "source": [
    "# Data Loading and Preprocessing"
   ]
  },
  {
   "cell_type": "code",
   "execution_count": 83,
   "metadata": {
    "execution": {
     "iopub.execute_input": "2025-05-25T05:41:01.321616Z",
     "iopub.status.busy": "2025-05-25T05:41:01.321327Z",
     "iopub.status.idle": "2025-05-25T05:41:02.882858Z",
     "shell.execute_reply": "2025-05-25T05:41:02.882258Z",
     "shell.execute_reply.started": "2025-05-25T05:41:01.321595Z"
    },
    "trusted": true
   },
   "outputs": [
    {
     "name": "stdout",
     "output_type": "stream",
     "text": [
      "Training samples: 50000\n",
      "Test samples: 10000\n",
      "Number of classes: 10\n"
     ]
    }
   ],
   "source": [
    "# Data transformations\n",
    "transform_train = transforms.Compose([\n",
    "    transforms.RandomCrop(32, padding=4),\n",
    "    transforms.RandomHorizontalFlip(),\n",
    "    transforms.ToTensor(),\n",
    "    transforms.Normalize((0.4914, 0.4822, 0.4465), (0.2023, 0.1994, 0.2010)),\n",
    "])\n",
    "\n",
    "transform_test = transforms.Compose([\n",
    "    transforms.ToTensor(),\n",
    "    transforms.Normalize((0.4914, 0.4822, 0.4465), (0.2023, 0.1994, 0.2010)),\n",
    "])\n",
    "\n",
    "# Load CIFAR-10 dataset\n",
    "trainset = torchvision.datasets.CIFAR10(root='./data', train=True,\n",
    "                                       download=True, transform=transform_train)\n",
    "trainloader = DataLoader(trainset, batch_size=128, shuffle=True, num_workers=2)\n",
    "\n",
    "testset = torchvision.datasets.CIFAR10(root='./data', train=False,\n",
    "                                      download=True, transform=transform_test)\n",
    "testloader = DataLoader(testset, batch_size=100, shuffle=False, num_workers=2)\n",
    "\n",
    "# CIFAR-10 classes\n",
    "classes = ('plane', 'car', 'bird', 'cat', 'deer', 'dog', 'frog', 'horse', 'ship', 'truck')\n",
    "\n",
    "print(f\"Training samples: {len(trainset)}\")\n",
    "print(f\"Test samples: {len(testset)}\")\n",
    "print(f\"Number of classes: {len(classes)}\")"
   ]
  },
  {
   "cell_type": "markdown",
   "metadata": {},
   "source": [
    "# Visualization"
   ]
  },
  {
   "cell_type": "code",
   "execution_count": 84,
   "metadata": {
    "execution": {
     "iopub.execute_input": "2025-05-25T05:41:03.574573Z",
     "iopub.status.busy": "2025-05-25T05:41:03.574264Z",
     "iopub.status.idle": "2025-05-25T05:41:04.317418Z",
     "shell.execute_reply": "2025-05-25T05:41:04.316736Z",
     "shell.execute_reply.started": "2025-05-25T05:41:03.574552Z"
    },
    "trusted": true
   },
   "outputs": [
    {
     "name": "stdout",
     "output_type": "stream",
     "text": [
      "Sample training images:\n"
     ]
    },
    {
     "data": {
      "image/png": "[encoded data removed]",
      "text/plain": [
       "<Figure size 1200x600 with 8 Axes>"
      ]
     },
     "metadata": {},
     "output_type": "display_data"
    }
   ],
   "source": [
    "def visualize_samples(dataloader, classes, num_samples=8):\n",
    "    \"\"\"Visualize sample images from the dataset\"\"\"\n",
    "    dataiter = iter(dataloader)\n",
    "    images, labels = next(dataiter)\n",
    "    \n",
    "    # Denormalize images for visualization\n",
    "    mean = torch.tensor([0.4914, 0.4822, 0.4465]).view(1, 3, 1, 1)\n",
    "    std = torch.tensor([0.2023, 0.1994, 0.2010]).view(1, 3, 1, 1)\n",
    "    images = images * std + mean\n",
    "    images = torch.clamp(images, 0, 1)\n",
    "    \n",
    "    fig, axes = plt.subplots(2, 4, figsize=(12, 6))\n",
    "    for i in range(num_samples):\n",
    "        row, col = i // 4, i % 4\n",
    "        axes[row, col].imshow(np.transpose(images[i], (1, 2, 0)))\n",
    "        axes[row, col].set_title(f'Class: {classes[labels[i]]}')\n",
    "        axes[row, col].axis('off')\n",
    "    \n",
    "    plt.tight_layout()\n",
    "    plt.show()\n",
    "\n",
    "# Visualize training samples\n",
    "print(\"Sample training images:\")\n",
    "visualize_samples(trainloader, classes)"
   ]
  },
  {
   "cell_type": "markdown",
   "metadata": {},
   "source": [
    "# Model Initialization"
   ]
  },
  {
   "cell_type": "code",
   "execution_count": 123,
   "metadata": {
    "execution": {
     "iopub.execute_input": "2025-05-25T08:33:18.377638Z",
     "iopub.status.busy": "2025-05-25T08:33:18.377335Z",
     "iopub.status.idle": "2025-05-25T08:33:18.807310Z",
     "shell.execute_reply": "2025-05-25T08:33:18.806527Z",
     "shell.execute_reply.started": "2025-05-25T08:33:18.377617Z"
    },
    "trusted": true
   },
   "outputs": [
    {
     "name": "stdout",
     "output_type": "stream",
     "text": [
      "Model Comparison:\n",
      "Standard ResNet18 parameters: 11,181,642\n",
      "AA-ResNet18 parameters: 13,128,770\n",
      "Parameter increase: 1,947,128\n",
      "\n",
      "Attention Augmented ResNet50 Architecture Summary:\n",
      "--------------------------------------------------\n",
      "conv1: 1,728 parameters\n",
      "bn1: 128 parameters\n",
      "layer1.0.conv1: 4,096 parameters\n",
      "layer1.0.bn1: 128 parameters\n",
      "layer1.0.conv2.conv: 29,952 parameters\n",
      "layer1.0.conv2.query_conv: 768 parameters\n",
      "layer1.0.conv2.key_conv: 768 parameters\n",
      "layer1.0.conv2.value_conv: 768 parameters\n",
      "layer1.0.bn2: 128 parameters\n",
      "layer1.0.conv3: 16,384 parameters\n",
      "layer1.0.bn3: 512 parameters\n",
      "layer1.0.downsample.0: 16,384 parameters\n",
      "layer1.0.downsample.1: 512 parameters\n",
      "layer1.1.conv1: 16,384 parameters\n",
      "layer1.1.bn1: 128 parameters\n",
      "layer1.1.conv2.conv: 29,952 parameters\n",
      "layer1.1.conv2.query_conv: 768 parameters\n",
      "layer1.1.conv2.key_conv: 768 parameters\n",
      "layer1.1.conv2.value_conv: 768 parameters\n",
      "layer1.1.bn2: 128 parameters\n",
      "layer1.1.conv3: 16,384 parameters\n",
      "layer1.1.bn3: 512 parameters\n",
      "layer2.0.conv1: 32,768 parameters\n",
      "layer2.0.bn1: 256 parameters\n",
      "layer2.0.conv2.conv: 118,656 parameters\n",
      "layer2.0.conv2.query_conv: 3,200 parameters\n",
      "layer2.0.conv2.key_conv: 3,200 parameters\n",
      "layer2.0.conv2.value_conv: 3,200 parameters\n",
      "layer2.0.bn2: 256 parameters\n",
      "layer2.0.conv3: 65,536 parameters\n",
      "layer2.0.bn3: 1,024 parameters\n",
      "layer2.0.downsample.0: 131,072 parameters\n",
      "layer2.0.downsample.1: 1,024 parameters\n",
      "layer2.1.conv1: 65,536 parameters\n",
      "layer2.1.bn1: 256 parameters\n",
      "layer2.1.conv2.conv: 118,656 parameters\n",
      "layer2.1.conv2.query_conv: 3,200 parameters\n",
      "layer2.1.conv2.key_conv: 3,200 parameters\n",
      "layer2.1.conv2.value_conv: 3,200 parameters\n",
      "layer2.1.bn2: 256 parameters\n",
      "layer2.1.conv3: 65,536 parameters\n",
      "layer2.1.bn3: 1,024 parameters\n",
      "layer3.0.conv1: 131,072 parameters\n",
      "layer3.0.bn1: 512 parameters\n",
      "layer3.0.conv2.conv: 472,320 parameters\n",
      "layer3.0.conv2.query_conv: 13,056 parameters\n",
      "layer3.0.conv2.key_conv: 13,056 parameters\n",
      "layer3.0.conv2.value_conv: 13,056 parameters\n",
      "layer3.0.bn2: 512 parameters\n",
      "layer3.0.conv3: 262,144 parameters\n",
      "layer3.0.bn3: 2,048 parameters\n",
      "layer3.0.downsample.0: 524,288 parameters\n",
      "layer3.0.downsample.1: 2,048 parameters\n",
      "layer3.1.conv1: 262,144 parameters\n",
      "layer3.1.bn1: 512 parameters\n",
      "layer3.1.conv2.conv: 472,320 parameters\n",
      "layer3.1.conv2.query_conv: 13,056 parameters\n",
      "layer3.1.conv2.key_conv: 13,056 parameters\n",
      "layer3.1.conv2.value_conv: 13,056 parameters\n",
      "layer3.1.bn2: 512 parameters\n",
      "layer3.1.conv3: 262,144 parameters\n",
      "layer3.1.bn3: 2,048 parameters\n",
      "layer4.0.conv1: 524,288 parameters\n",
      "layer4.0.bn1: 1,024 parameters\n",
      "layer4.0.conv2.conv: 1,889,280 parameters\n",
      "layer4.0.conv2.query_conv: 52,224 parameters\n",
      "layer4.0.conv2.key_conv: 52,224 parameters\n",
      "layer4.0.conv2.value_conv: 52,224 parameters\n",
      "layer4.0.bn2: 1,024 parameters\n",
      "layer4.0.conv3: 1,048,576 parameters\n",
      "layer4.0.bn3: 4,096 parameters\n",
      "layer4.0.downsample.0: 2,097,152 parameters\n",
      "layer4.0.downsample.1: 4,096 parameters\n",
      "layer4.1.conv1: 1,048,576 parameters\n",
      "layer4.1.bn1: 1,024 parameters\n",
      "layer4.1.conv2.conv: 1,889,280 parameters\n",
      "layer4.1.conv2.query_conv: 52,224 parameters\n",
      "layer4.1.conv2.key_conv: 52,224 parameters\n",
      "layer4.1.conv2.value_conv: 52,224 parameters\n",
      "layer4.1.bn2: 1,024 parameters\n",
      "layer4.1.conv3: 1,048,576 parameters\n",
      "layer4.1.bn3: 4,096 parameters\n",
      "fc: 20,490 parameters\n",
      "Total: 13,128,010 parameters\n"
     ]
    }
   ],
   "source": [
    "# Create models for comparison\n",
    "standard_resnet = torchvision.models.resnet18(num_classes=10)\n",
    "aa_resnet = create_aa_resnet18(num_classes=10, v=0.2, k=0.2)\n",
    "\n",
    "# Move models to device\n",
    "standard_resnet = standard_resnet.to(device)\n",
    "aa_resnet = aa_resnet.to(device)\n",
    "\n",
    "# Count parameters\n",
    "def count_parameters(model):\n",
    "    return sum(p.numel() for p in model.parameters() if p.requires_grad)\n",
    "\n",
    "print(\"Model Comparison:\")\n",
    "print(f\"Standard ResNet18 parameters: {count_parameters(standard_resnet):,}\")\n",
    "print(f\"AA-ResNet18 parameters: {count_parameters(aa_resnet):,}\")\n",
    "print(f\"Parameter increase: {count_parameters(aa_resnet) - count_parameters(standard_resnet):,}\")\n",
    "\n",
    "# Visualize model architecture\n",
    "def print_model_summary(model, model_name):\n",
    "    print(f\"\\n{model_name} Architecture Summary:\")\n",
    "    print(\"-\" * 50)\n",
    "    total_params = 0\n",
    "    for name, module in model.named_modules():\n",
    "        if len(list(module.children())) == 0:  # Leaf modules\n",
    "            params = sum(p.numel() for p in module.parameters())\n",
    "            if params > 0:\n",
    "                print(f\"{name}: {params:,} parameters\")\n",
    "                total_params += params\n",
    "    print(f\"Total: {total_params:,} parameters\")\n",
    "\n",
    "print_model_summary(aa_resnet, \"Attention Augmented ResNet50\")"
   ]
  },
  {
   "cell_type": "markdown",
   "metadata": {},
   "source": [
    "# Training Setup"
   ]
  },
  {
   "cell_type": "code",
   "execution_count": 105,
   "metadata": {
    "execution": {
     "iopub.execute_input": "2025-05-25T06:55:02.034737Z",
     "iopub.status.busy": "2025-05-25T06:55:02.033983Z",
     "iopub.status.idle": "2025-05-25T06:55:02.041057Z",
     "shell.execute_reply": "2025-05-25T06:55:02.040518Z",
     "shell.execute_reply.started": "2025-05-25T06:55:02.034711Z"
    },
    "trusted": true
   },
   "outputs": [],
   "source": [
    "def train_model(model, trainloader, criterion, optimizer, scheduler=None, epochs=10):\n",
    "    \"\"\"Train the model with improved training procedures\"\"\"\n",
    "    model.train()\n",
    "    train_losses = []\n",
    "    train_accuracies = []\n",
    "    \n",
    "    for epoch in range(epochs):\n",
    "        running_loss = 0.0\n",
    "        correct = 0\n",
    "        total = 0\n",
    "        \n",
    "        progress_bar = tqdm(trainloader, desc=f'Epoch {epoch+1}/{epochs}')\n",
    "        for batch_idx, (inputs, targets) in enumerate(progress_bar):\n",
    "            inputs, targets = inputs.to(device), targets.to(device)\n",
    "            \n",
    "            optimizer.zero_grad()\n",
    "            outputs = model(inputs)\n",
    "            loss = criterion(outputs, targets)\n",
    "            loss.backward()\n",
    "            \n",
    "            # Gradient clipping - crucial for attention models\n",
    "            torch.nn.utils.clip_grad_norm_(model.parameters(), max_norm=1.0)\n",
    "            \n",
    "            optimizer.step()\n",
    "            \n",
    "            running_loss += loss.item()\n",
    "            _, predicted = outputs.max(1)\n",
    "            total += targets.size(0)\n",
    "            correct += predicted.eq(targets).sum().item()\n",
    "            \n",
    "            # Update progress bar\n",
    "            progress_bar.set_postfix({\n",
    "                'Loss': f'{running_loss/(batch_idx+1):.3f}',\n",
    "                'Acc': f'{100.*correct/total:.2f}%'\n",
    "            })\n",
    "        \n",
    "        if scheduler:\n",
    "            scheduler.step()\n",
    "        \n",
    "        epoch_loss = running_loss / len(trainloader)\n",
    "        epoch_acc = 100. * correct / total\n",
    "        \n",
    "        train_losses.append(epoch_loss)\n",
    "        train_accuracies.append(epoch_acc)\n",
    "        \n",
    "        print(f'Epoch {epoch+1}: Loss: {epoch_loss:.4f}, Accuracy: {epoch_acc:.2f}%')\n",
    "    \n",
    "    return train_losses, train_accuracies\n"
   ]
  },
  {
   "cell_type": "code",
   "execution_count": 116,
   "metadata": {
    "execution": {
     "iopub.execute_input": "2025-05-25T08:30:52.243707Z",
     "iopub.status.busy": "2025-05-25T08:30:52.242930Z",
     "iopub.status.idle": "2025-05-25T08:30:52.250913Z",
     "shell.execute_reply": "2025-05-25T08:30:52.250204Z",
     "shell.execute_reply.started": "2025-05-25T08:30:52.243684Z"
    },
    "trusted": true
   },
   "outputs": [],
   "source": [
    "def test_model(model, testloader):\n",
    "    \"\"\"Test the model\"\"\"\n",
    "    model.eval()\n",
    "    test_loss = 0\n",
    "    correct = 0\n",
    "    total = 0\n",
    "    class_correct = list(0. for i in range(10))\n",
    "    class_total = list(0. for i in range(10))\n",
    "    \n",
    "    criterion = nn.CrossEntropyLoss()\n",
    "    \n",
    "    with torch.no_grad():\n",
    "        for inputs, targets in tqdm(testloader, desc='Testing'):\n",
    "            inputs, targets = inputs.to(device), targets.to(device)\n",
    "            outputs = model(inputs)\n",
    "            loss = criterion(outputs, targets)\n",
    "            \n",
    "            test_loss += loss.item()\n",
    "            _, predicted = outputs.max(1)\n",
    "            total += targets.size(0)\n",
    "            correct += predicted.eq(targets).sum().item()\n",
    "            \n",
    "            # Per-class accuracy\n",
    "            c = (predicted == targets).squeeze()\n",
    "            for i in range(targets.size(0)):\n",
    "                label = targets[i]\n",
    "                class_correct[label] += c[i].item()\n",
    "                class_total[label] += 1\n",
    "    \n",
    "    test_loss /= len(testloader)\n",
    "    test_acc = 100. * correct / total\n",
    "    \n",
    "    print(f'Test Loss: {test_loss:.4f}, Test Accuracy: {test_acc:.2f}%')\n",
    "    \n",
    "    # Print per-class accuracy\n",
    "    print(\"\\nPer-class accuracy:\")\n",
    "    for i in range(10):\n",
    "        if class_total[i] > 0:\n",
    "            acc = 100 * class_correct[i] / class_total[i]\n",
    "            print(f'{classes[i]}: {acc:.2f}%')\n",
    "    \n",
    "    return test_loss, test_acc, class_correct, class_total\n"
   ]
  },
  {
   "cell_type": "markdown",
   "metadata": {},
   "source": [
    "# Train Attention Augmented ResNet"
   ]
  },
  {
   "cell_type": "code",
   "execution_count": null,
   "metadata": {
    "execution": {
     "iopub.execute_input": "2025-05-25T06:55:07.991162Z",
     "iopub.status.busy": "2025-05-25T06:55:07.990604Z",
     "iopub.status.idle": "2025-05-25T08:08:29.700753Z",
     "shell.execute_reply": "2025-05-25T08:08:29.699687Z",
     "shell.execute_reply.started": "2025-05-25T06:55:07.991139Z"
    },
    "trusted": true
   },
   "outputs": [
    {
     "name": "stdout",
     "output_type": "stream",
     "text": [
      "Training for 200 epochs...\n"
     ]
    },
    {
     "name": "stderr",
     "output_type": "stream",
     "text": [
      "Epoch 1/200: 100%|██████████| 391/391 [00:22<00:00, 17.21it/s, Loss=2.169, Acc=30.10%]\n"
     ]
    },
    {
     "name": "stdout",
     "output_type": "stream",
     "text": [
      "Epoch 1: Loss: 2.1692, Accuracy: 30.10%\n"
     ]
    },
    {
     "name": "stderr",
     "output_type": "stream",
     "text": [
      "Epoch 2/200: 100%|██████████| 391/391 [00:21<00:00, 18.08it/s, Loss=1.836, Acc=45.14%]\n"
     ]
    },
    {
     "name": "stdout",
     "output_type": "stream",
     "text": [
      "Epoch 2: Loss: 1.8355, Accuracy: 45.14%\n"
     ]
    },
    {
     "name": "stderr",
     "output_type": "stream",
     "text": [
      "Epoch 3/200: 100%|██████████| 391/391 [00:21<00:00, 18.43it/s, Loss=1.626, Acc=53.08%]\n"
     ]
    },
    {
     "name": "stdout",
     "output_type": "stream",
     "text": [
      "Epoch 3: Loss: 1.6262, Accuracy: 53.08%\n"
     ]
    },
    {
     "name": "stderr",
     "output_type": "stream",
     "text": [
      "Epoch 4/200: 100%|██████████| 391/391 [00:21<00:00, 18.38it/s, Loss=1.468, Acc=58.17%]\n"
     ]
    },
    {
     "name": "stdout",
     "output_type": "stream",
     "text": [
      "Epoch 4: Loss: 1.4679, Accuracy: 58.17%\n"
     ]
    },
    {
     "name": "stderr",
     "output_type": "stream",
     "text": [
      "Epoch 5/200: 100%|██████████| 391/391 [00:21<00:00, 18.20it/s, Loss=1.346, Acc=62.49%]\n"
     ]
    },
    {
     "name": "stdout",
     "output_type": "stream",
     "text": [
      "Epoch 5: Loss: 1.3462, Accuracy: 62.49%\n"
     ]
    },
    {
     "name": "stderr",
     "output_type": "stream",
     "text": [
      "Epoch 6/200: 100%|██████████| 391/391 [00:21<00:00, 18.22it/s, Loss=1.266, Acc=65.76%]\n"
     ]
    },
    {
     "name": "stdout",
     "output_type": "stream",
     "text": [
      "Epoch 6: Loss: 1.2658, Accuracy: 65.76%\n"
     ]
    },
    {
     "name": "stderr",
     "output_type": "stream",
     "text": [
      "Epoch 7/200: 100%|██████████| 391/391 [00:21<00:00, 18.22it/s, Loss=1.207, Acc=68.48%]\n"
     ]
    },
    {
     "name": "stdout",
     "output_type": "stream",
     "text": [
      "Epoch 7: Loss: 1.2074, Accuracy: 68.48%\n"
     ]
    },
    {
     "name": "stderr",
     "output_type": "stream",
     "text": [
      "Epoch 8/200: 100%|██████████| 391/391 [00:21<00:00, 18.24it/s, Loss=1.172, Acc=70.06%]\n"
     ]
    },
    {
     "name": "stdout",
     "output_type": "stream",
     "text": [
      "Epoch 8: Loss: 1.1724, Accuracy: 70.06%\n"
     ]
    },
    {
     "name": "stderr",
     "output_type": "stream",
     "text": [
      "Epoch 9/200: 100%|██████████| 391/391 [00:21<00:00, 18.14it/s, Loss=1.142, Acc=71.42%]\n"
     ]
    },
    {
     "name": "stdout",
     "output_type": "stream",
     "text": [
      "Epoch 9: Loss: 1.1417, Accuracy: 71.42%\n"
     ]
    },
    {
     "name": "stderr",
     "output_type": "stream",
     "text": [
      "Epoch 10/200: 100%|██████████| 391/391 [00:21<00:00, 18.24it/s, Loss=1.123, Acc=72.40%]\n"
     ]
    },
    {
     "name": "stdout",
     "output_type": "stream",
     "text": [
      "Epoch 10: Loss: 1.1232, Accuracy: 72.40%\n"
     ]
    },
    {
     "name": "stderr",
     "output_type": "stream",
     "text": [
      "Epoch 11/200: 100%|██████████| 391/391 [00:21<00:00, 18.37it/s, Loss=1.105, Acc=73.28%]\n"
     ]
    },
    {
     "name": "stdout",
     "output_type": "stream",
     "text": [
      "Epoch 11: Loss: 1.1054, Accuracy: 73.28%\n"
     ]
    },
    {
     "name": "stderr",
     "output_type": "stream",
     "text": [
      "Epoch 12/200: 100%|██████████| 391/391 [00:21<00:00, 18.36it/s, Loss=1.093, Acc=73.86%]\n"
     ]
    },
    {
     "name": "stdout",
     "output_type": "stream",
     "text": [
      "Epoch 12: Loss: 1.0931, Accuracy: 73.86%\n"
     ]
    },
    {
     "name": "stderr",
     "output_type": "stream",
     "text": [
      "Epoch 13/200: 100%|██████████| 391/391 [00:21<00:00, 18.28it/s, Loss=1.085, Acc=73.86%]\n"
     ]
    },
    {
     "name": "stdout",
     "output_type": "stream",
     "text": [
      "Epoch 13: Loss: 1.0852, Accuracy: 73.86%\n"
     ]
    },
    {
     "name": "stderr",
     "output_type": "stream",
     "text": [
      "Epoch 14/200: 100%|██████████| 391/391 [00:21<00:00, 18.28it/s, Loss=1.071, Acc=74.65%]\n"
     ]
    },
    {
     "name": "stdout",
     "output_type": "stream",
     "text": [
      "Epoch 14: Loss: 1.0707, Accuracy: 74.65%\n"
     ]
    },
    {
     "name": "stderr",
     "output_type": "stream",
     "text": [
      "Epoch 15/200: 100%|██████████| 391/391 [00:21<00:00, 18.56it/s, Loss=1.070, Acc=75.05%]\n"
     ]
    },
    {
     "name": "stdout",
     "output_type": "stream",
     "text": [
      "Epoch 15: Loss: 1.0698, Accuracy: 75.05%\n"
     ]
    },
    {
     "name": "stderr",
     "output_type": "stream",
     "text": [
      "Epoch 16/200: 100%|██████████| 391/391 [00:21<00:00, 18.38it/s, Loss=1.056, Acc=75.36%]\n"
     ]
    },
    {
     "name": "stdout",
     "output_type": "stream",
     "text": [
      "Epoch 16: Loss: 1.0559, Accuracy: 75.36%\n"
     ]
    },
    {
     "name": "stderr",
     "output_type": "stream",
     "text": [
      "Epoch 17/200: 100%|██████████| 391/391 [00:21<00:00, 18.21it/s, Loss=1.054, Acc=75.44%]\n"
     ]
    },
    {
     "name": "stdout",
     "output_type": "stream",
     "text": [
      "Epoch 17: Loss: 1.0541, Accuracy: 75.44%\n"
     ]
    },
    {
     "name": "stderr",
     "output_type": "stream",
     "text": [
      "Epoch 18/200: 100%|██████████| 391/391 [00:21<00:00, 18.34it/s, Loss=1.045, Acc=75.90%]\n"
     ]
    },
    {
     "name": "stdout",
     "output_type": "stream",
     "text": [
      "Epoch 18: Loss: 1.0449, Accuracy: 75.90%\n"
     ]
    },
    {
     "name": "stderr",
     "output_type": "stream",
     "text": [
      "Epoch 19/200: 100%|██████████| 391/391 [00:21<00:00, 18.41it/s, Loss=1.040, Acc=76.15%]\n"
     ]
    },
    {
     "name": "stdout",
     "output_type": "stream",
     "text": [
      "Epoch 19: Loss: 1.0404, Accuracy: 76.15%\n"
     ]
    },
    {
     "name": "stderr",
     "output_type": "stream",
     "text": [
      "Epoch 20/200: 100%|██████████| 391/391 [00:21<00:00, 18.17it/s, Loss=1.038, Acc=76.14%]\n"
     ]
    },
    {
     "name": "stdout",
     "output_type": "stream",
     "text": [
      "Epoch 20: Loss: 1.0379, Accuracy: 76.14%\n"
     ]
    },
    {
     "name": "stderr",
     "output_type": "stream",
     "text": [
      "Epoch 21/200: 100%|██████████| 391/391 [00:21<00:00, 18.33it/s, Loss=1.035, Acc=76.37%]\n"
     ]
    },
    {
     "name": "stdout",
     "output_type": "stream",
     "text": [
      "Epoch 21: Loss: 1.0353, Accuracy: 76.37%\n"
     ]
    },
    {
     "name": "stderr",
     "output_type": "stream",
     "text": [
      "Epoch 22/200: 100%|██████████| 391/391 [00:21<00:00, 18.44it/s, Loss=1.028, Acc=76.72%]\n"
     ]
    },
    {
     "name": "stdout",
     "output_type": "stream",
     "text": [
      "Epoch 22: Loss: 1.0283, Accuracy: 76.72%\n"
     ]
    },
    {
     "name": "stderr",
     "output_type": "stream",
     "text": [
      "Epoch 23/200: 100%|██████████| 391/391 [00:21<00:00, 18.42it/s, Loss=1.029, Acc=76.62%]\n"
     ]
    },
    {
     "name": "stdout",
     "output_type": "stream",
     "text": [
      "Epoch 23: Loss: 1.0289, Accuracy: 76.62%\n"
     ]
    },
    {
     "name": "stderr",
     "output_type": "stream",
     "text": [
      "Epoch 24/200: 100%|██████████| 391/391 [00:21<00:00, 18.44it/s, Loss=1.026, Acc=76.77%]\n"
     ]
    },
    {
     "name": "stdout",
     "output_type": "stream",
     "text": [
      "Epoch 24: Loss: 1.0259, Accuracy: 76.77%\n"
     ]
    },
    {
     "name": "stderr",
     "output_type": "stream",
     "text": [
      "Epoch 25/200: 100%|██████████| 391/391 [00:21<00:00, 18.39it/s, Loss=1.018, Acc=77.16%]\n"
     ]
    },
    {
     "name": "stdout",
     "output_type": "stream",
     "text": [
      "Epoch 25: Loss: 1.0176, Accuracy: 77.16%\n"
     ]
    },
    {
     "name": "stderr",
     "output_type": "stream",
     "text": [
      "Epoch 26/200: 100%|██████████| 391/391 [00:21<00:00, 18.34it/s, Loss=1.014, Acc=77.27%]\n"
     ]
    },
    {
     "name": "stdout",
     "output_type": "stream",
     "text": [
      "Epoch 26: Loss: 1.0139, Accuracy: 77.27%\n"
     ]
    },
    {
     "name": "stderr",
     "output_type": "stream",
     "text": [
      "Epoch 27/200: 100%|██████████| 391/391 [00:21<00:00, 18.55it/s, Loss=1.014, Acc=77.29%]\n"
     ]
    },
    {
     "name": "stdout",
     "output_type": "stream",
     "text": [
      "Epoch 27: Loss: 1.0143, Accuracy: 77.29%\n"
     ]
    },
    {
     "name": "stderr",
     "output_type": "stream",
     "text": [
      "Epoch 28/200: 100%|██████████| 391/391 [00:21<00:00, 18.36it/s, Loss=1.011, Acc=77.31%]\n"
     ]
    },
    {
     "name": "stdout",
     "output_type": "stream",
     "text": [
      "Epoch 28: Loss: 1.0109, Accuracy: 77.31%\n"
     ]
    },
    {
     "name": "stderr",
     "output_type": "stream",
     "text": [
      "Epoch 29/200: 100%|██████████| 391/391 [00:21<00:00, 18.36it/s, Loss=1.007, Acc=77.48%]\n"
     ]
    },
    {
     "name": "stdout",
     "output_type": "stream",
     "text": [
      "Epoch 29: Loss: 1.0073, Accuracy: 77.48%\n"
     ]
    },
    {
     "name": "stderr",
     "output_type": "stream",
     "text": [
      "Epoch 30/200: 100%|██████████| 391/391 [00:21<00:00, 18.43it/s, Loss=1.003, Acc=77.88%]\n"
     ]
    },
    {
     "name": "stdout",
     "output_type": "stream",
     "text": [
      "Epoch 30: Loss: 1.0032, Accuracy: 77.88%\n"
     ]
    },
    {
     "name": "stderr",
     "output_type": "stream",
     "text": [
      "Epoch 31/200: 100%|██████████| 391/391 [00:21<00:00, 18.39it/s, Loss=1.002, Acc=77.87%]\n"
     ]
    },
    {
     "name": "stdout",
     "output_type": "stream",
     "text": [
      "Epoch 31: Loss: 1.0015, Accuracy: 77.87%\n"
     ]
    },
    {
     "name": "stderr",
     "output_type": "stream",
     "text": [
      "Epoch 32/200: 100%|██████████| 391/391 [00:21<00:00, 18.29it/s, Loss=0.997, Acc=78.08%]\n"
     ]
    },
    {
     "name": "stdout",
     "output_type": "stream",
     "text": [
      "Epoch 32: Loss: 0.9967, Accuracy: 78.08%\n"
     ]
    },
    {
     "name": "stderr",
     "output_type": "stream",
     "text": [
      "Epoch 33/200: 100%|██████████| 391/391 [00:21<00:00, 18.42it/s, Loss=1.001, Acc=77.72%]\n"
     ]
    },
    {
     "name": "stdout",
     "output_type": "stream",
     "text": [
      "Epoch 33: Loss: 1.0010, Accuracy: 77.72%\n"
     ]
    },
    {
     "name": "stderr",
     "output_type": "stream",
     "text": [
      "Epoch 34/200: 100%|██████████| 391/391 [00:21<00:00, 18.33it/s, Loss=0.997, Acc=78.14%]\n"
     ]
    },
    {
     "name": "stdout",
     "output_type": "stream",
     "text": [
      "Epoch 34: Loss: 0.9973, Accuracy: 78.14%\n"
     ]
    },
    {
     "name": "stderr",
     "output_type": "stream",
     "text": [
      "Epoch 35/200: 100%|██████████| 391/391 [00:21<00:00, 18.46it/s, Loss=0.998, Acc=78.01%]\n"
     ]
    },
    {
     "name": "stdout",
     "output_type": "stream",
     "text": [
      "Epoch 35: Loss: 0.9985, Accuracy: 78.01%\n"
     ]
    },
    {
     "name": "stderr",
     "output_type": "stream",
     "text": [
      "Epoch 36/200: 100%|██████████| 391/391 [00:21<00:00, 18.44it/s, Loss=0.999, Acc=78.02%]\n"
     ]
    },
    {
     "name": "stdout",
     "output_type": "stream",
     "text": [
      "Epoch 36: Loss: 0.9992, Accuracy: 78.02%\n"
     ]
    },
    {
     "name": "stderr",
     "output_type": "stream",
     "text": [
      "Epoch 37/200: 100%|██████████| 391/391 [00:21<00:00, 18.28it/s, Loss=0.995, Acc=78.07%]\n"
     ]
    },
    {
     "name": "stdout",
     "output_type": "stream",
     "text": [
      "Epoch 37: Loss: 0.9953, Accuracy: 78.07%\n"
     ]
    },
    {
     "name": "stderr",
     "output_type": "stream",
     "text": [
      "Epoch 38/200: 100%|██████████| 391/391 [00:21<00:00, 18.47it/s, Loss=0.992, Acc=78.12%]\n"
     ]
    },
    {
     "name": "stdout",
     "output_type": "stream",
     "text": [
      "Epoch 38: Loss: 0.9923, Accuracy: 78.12%\n"
     ]
    },
    {
     "name": "stderr",
     "output_type": "stream",
     "text": [
      "Epoch 39/200: 100%|██████████| 391/391 [00:21<00:00, 18.46it/s, Loss=0.992, Acc=78.07%]\n"
     ]
    },
    {
     "name": "stdout",
     "output_type": "stream",
     "text": [
      "Epoch 39: Loss: 0.9921, Accuracy: 78.07%\n"
     ]
    },
    {
     "name": "stderr",
     "output_type": "stream",
     "text": [
      "Epoch 40/200: 100%|██████████| 391/391 [00:21<00:00, 18.30it/s, Loss=0.993, Acc=78.11%]\n"
     ]
    },
    {
     "name": "stdout",
     "output_type": "stream",
     "text": [
      "Epoch 40: Loss: 0.9928, Accuracy: 78.11%\n"
     ]
    },
    {
     "name": "stderr",
     "output_type": "stream",
     "text": [
      "Epoch 41/200: 100%|██████████| 391/391 [00:21<00:00, 18.45it/s, Loss=0.989, Acc=78.44%]\n"
     ]
    },
    {
     "name": "stdout",
     "output_type": "stream",
     "text": [
      "Epoch 41: Loss: 0.9886, Accuracy: 78.44%\n"
     ]
    },
    {
     "name": "stderr",
     "output_type": "stream",
     "text": [
      "Epoch 42/200: 100%|██████████| 391/391 [00:21<00:00, 18.45it/s, Loss=0.989, Acc=78.32%]\n"
     ]
    },
    {
     "name": "stdout",
     "output_type": "stream",
     "text": [
      "Epoch 42: Loss: 0.9888, Accuracy: 78.32%\n"
     ]
    },
    {
     "name": "stderr",
     "output_type": "stream",
     "text": [
      "Epoch 43/200: 100%|██████████| 391/391 [00:21<00:00, 18.39it/s, Loss=0.989, Acc=78.37%]\n"
     ]
    },
    {
     "name": "stdout",
     "output_type": "stream",
     "text": [
      "Epoch 43: Loss: 0.9886, Accuracy: 78.37%\n"
     ]
    },
    {
     "name": "stderr",
     "output_type": "stream",
     "text": [
      "Epoch 44/200: 100%|██████████| 391/391 [00:21<00:00, 18.39it/s, Loss=0.984, Acc=78.68%]\n"
     ]
    },
    {
     "name": "stdout",
     "output_type": "stream",
     "text": [
      "Epoch 44: Loss: 0.9843, Accuracy: 78.68%\n"
     ]
    },
    {
     "name": "stderr",
     "output_type": "stream",
     "text": [
      "Epoch 45/200: 100%|██████████| 391/391 [00:21<00:00, 18.50it/s, Loss=0.991, Acc=78.42%]\n"
     ]
    },
    {
     "name": "stdout",
     "output_type": "stream",
     "text": [
      "Epoch 45: Loss: 0.9908, Accuracy: 78.42%\n"
     ]
    },
    {
     "name": "stderr",
     "output_type": "stream",
     "text": [
      "Epoch 46/200: 100%|██████████| 391/391 [00:21<00:00, 18.43it/s, Loss=0.987, Acc=78.49%]\n"
     ]
    },
    {
     "name": "stdout",
     "output_type": "stream",
     "text": [
      "Epoch 46: Loss: 0.9873, Accuracy: 78.49%\n"
     ]
    },
    {
     "name": "stderr",
     "output_type": "stream",
     "text": [
      "Epoch 47/200: 100%|██████████| 391/391 [00:21<00:00, 18.46it/s, Loss=0.983, Acc=78.81%]\n"
     ]
    },
    {
     "name": "stdout",
     "output_type": "stream",
     "text": [
      "Epoch 47: Loss: 0.9834, Accuracy: 78.81%\n"
     ]
    },
    {
     "name": "stderr",
     "output_type": "stream",
     "text": [
      "Epoch 48/200: 100%|██████████| 391/391 [00:21<00:00, 18.43it/s, Loss=0.984, Acc=78.75%]\n"
     ]
    },
    {
     "name": "stdout",
     "output_type": "stream",
     "text": [
      "Epoch 48: Loss: 0.9837, Accuracy: 78.75%\n"
     ]
    },
    {
     "name": "stderr",
     "output_type": "stream",
     "text": [
      "Epoch 49/200: 100%|██████████| 391/391 [00:21<00:00, 18.44it/s, Loss=0.985, Acc=78.62%]\n"
     ]
    },
    {
     "name": "stdout",
     "output_type": "stream",
     "text": [
      "Epoch 49: Loss: 0.9850, Accuracy: 78.62%\n"
     ]
    },
    {
     "name": "stderr",
     "output_type": "stream",
     "text": [
      "Epoch 50/200: 100%|██████████| 391/391 [00:21<00:00, 18.44it/s, Loss=0.983, Acc=78.55%]\n"
     ]
    },
    {
     "name": "stdout",
     "output_type": "stream",
     "text": [
      "Epoch 50: Loss: 0.9827, Accuracy: 78.55%\n"
     ]
    },
    {
     "name": "stderr",
     "output_type": "stream",
     "text": [
      "Epoch 51/200: 100%|██████████| 391/391 [00:21<00:00, 17.81it/s, Loss=0.982, Acc=78.62%]\n"
     ]
    },
    {
     "name": "stdout",
     "output_type": "stream",
     "text": [
      "Epoch 51: Loss: 0.9817, Accuracy: 78.62%\n"
     ]
    },
    {
     "name": "stderr",
     "output_type": "stream",
     "text": [
      "Epoch 52/200: 100%|██████████| 391/391 [00:21<00:00, 17.95it/s, Loss=0.981, Acc=78.68%]\n"
     ]
    },
    {
     "name": "stdout",
     "output_type": "stream",
     "text": [
      "Epoch 52: Loss: 0.9814, Accuracy: 78.68%\n"
     ]
    },
    {
     "name": "stderr",
     "output_type": "stream",
     "text": [
      "Epoch 53/200: 100%|██████████| 391/391 [00:22<00:00, 17.76it/s, Loss=0.978, Acc=79.06%]\n"
     ]
    },
    {
     "name": "stdout",
     "output_type": "stream",
     "text": [
      "Epoch 53: Loss: 0.9778, Accuracy: 79.06%\n"
     ]
    },
    {
     "name": "stderr",
     "output_type": "stream",
     "text": [
      "Epoch 54/200: 100%|██████████| 391/391 [00:22<00:00, 17.68it/s, Loss=0.982, Acc=78.79%]\n"
     ]
    },
    {
     "name": "stdout",
     "output_type": "stream",
     "text": [
      "Epoch 54: Loss: 0.9824, Accuracy: 78.79%\n"
     ]
    },
    {
     "name": "stderr",
     "output_type": "stream",
     "text": [
      "Epoch 55/200: 100%|██████████| 391/391 [00:21<00:00, 18.00it/s, Loss=0.978, Acc=78.94%]\n"
     ]
    },
    {
     "name": "stdout",
     "output_type": "stream",
     "text": [
      "Epoch 55: Loss: 0.9779, Accuracy: 78.94%\n"
     ]
    },
    {
     "name": "stderr",
     "output_type": "stream",
     "text": [
      "Epoch 56/200: 100%|██████████| 391/391 [00:21<00:00, 17.82it/s, Loss=0.974, Acc=79.13%]\n"
     ]
    },
    {
     "name": "stdout",
     "output_type": "stream",
     "text": [
      "Epoch 56: Loss: 0.9742, Accuracy: 79.13%\n"
     ]
    },
    {
     "name": "stderr",
     "output_type": "stream",
     "text": [
      "Epoch 57/200: 100%|██████████| 391/391 [00:22<00:00, 17.64it/s, Loss=0.977, Acc=78.92%]\n"
     ]
    },
    {
     "name": "stdout",
     "output_type": "stream",
     "text": [
      "Epoch 57: Loss: 0.9772, Accuracy: 78.92%\n"
     ]
    },
    {
     "name": "stderr",
     "output_type": "stream",
     "text": [
      "Epoch 58/200: 100%|██████████| 391/391 [00:21<00:00, 17.98it/s, Loss=0.975, Acc=79.05%]\n"
     ]
    },
    {
     "name": "stdout",
     "output_type": "stream",
     "text": [
      "Epoch 58: Loss: 0.9753, Accuracy: 79.05%\n"
     ]
    },
    {
     "name": "stderr",
     "output_type": "stream",
     "text": [
      "Epoch 59/200: 100%|██████████| 391/391 [00:21<00:00, 17.88it/s, Loss=0.980, Acc=78.86%]\n"
     ]
    },
    {
     "name": "stdout",
     "output_type": "stream",
     "text": [
      "Epoch 59: Loss: 0.9799, Accuracy: 78.86%\n"
     ]
    },
    {
     "name": "stderr",
     "output_type": "stream",
     "text": [
      "Epoch 60/200: 100%|██████████| 391/391 [00:21<00:00, 18.02it/s, Loss=0.978, Acc=78.87%]\n"
     ]
    },
    {
     "name": "stdout",
     "output_type": "stream",
     "text": [
      "Epoch 60: Loss: 0.9783, Accuracy: 78.87%\n"
     ]
    },
    {
     "name": "stderr",
     "output_type": "stream",
     "text": [
      "Epoch 61/200: 100%|██████████| 391/391 [00:21<00:00, 17.96it/s, Loss=0.837, Acc=85.11%]\n"
     ]
    },
    {
     "name": "stdout",
     "output_type": "stream",
     "text": [
      "Epoch 61: Loss: 0.8372, Accuracy: 85.11%\n"
     ]
    },
    {
     "name": "stderr",
     "output_type": "stream",
     "text": [
      "Epoch 62/200: 100%|██████████| 391/391 [00:21<00:00, 18.04it/s, Loss=0.790, Acc=87.08%]\n"
     ]
    },
    {
     "name": "stdout",
     "output_type": "stream",
     "text": [
      "Epoch 62: Loss: 0.7903, Accuracy: 87.08%\n"
     ]
    },
    {
     "name": "stderr",
     "output_type": "stream",
     "text": [
      "Epoch 63/200: 100%|██████████| 391/391 [00:21<00:00, 17.93it/s, Loss=0.774, Acc=87.84%]\n"
     ]
    },
    {
     "name": "stdout",
     "output_type": "stream",
     "text": [
      "Epoch 63: Loss: 0.7738, Accuracy: 87.84%\n"
     ]
    },
    {
     "name": "stderr",
     "output_type": "stream",
     "text": [
      "Epoch 64/200: 100%|██████████| 391/391 [00:21<00:00, 18.01it/s, Loss=0.762, Acc=88.39%]\n"
     ]
    },
    {
     "name": "stdout",
     "output_type": "stream",
     "text": [
      "Epoch 64: Loss: 0.7616, Accuracy: 88.39%\n"
     ]
    },
    {
     "name": "stderr",
     "output_type": "stream",
     "text": [
      "Epoch 65/200: 100%|██████████| 391/391 [00:21<00:00, 17.88it/s, Loss=0.754, Acc=88.68%]\n"
     ]
    },
    {
     "name": "stdout",
     "output_type": "stream",
     "text": [
      "Epoch 65: Loss: 0.7544, Accuracy: 88.68%\n"
     ]
    },
    {
     "name": "stderr",
     "output_type": "stream",
     "text": [
      "Epoch 66/200: 100%|██████████| 391/391 [00:21<00:00, 18.00it/s, Loss=0.747, Acc=88.94%]\n"
     ]
    },
    {
     "name": "stdout",
     "output_type": "stream",
     "text": [
      "Epoch 66: Loss: 0.7471, Accuracy: 88.94%\n"
     ]
    },
    {
     "name": "stderr",
     "output_type": "stream",
     "text": [
      "Epoch 67/200: 100%|██████████| 391/391 [00:21<00:00, 18.04it/s, Loss=0.743, Acc=89.28%]\n"
     ]
    },
    {
     "name": "stdout",
     "output_type": "stream",
     "text": [
      "Epoch 67: Loss: 0.7433, Accuracy: 89.28%\n"
     ]
    },
    {
     "name": "stderr",
     "output_type": "stream",
     "text": [
      "Epoch 68/200: 100%|██████████| 391/391 [00:21<00:00, 18.05it/s, Loss=0.737, Acc=89.55%]\n"
     ]
    },
    {
     "name": "stdout",
     "output_type": "stream",
     "text": [
      "Epoch 68: Loss: 0.7365, Accuracy: 89.55%\n"
     ]
    },
    {
     "name": "stderr",
     "output_type": "stream",
     "text": [
      "Epoch 69/200: 100%|██████████| 391/391 [00:21<00:00, 18.12it/s, Loss=0.733, Acc=89.65%]\n"
     ]
    },
    {
     "name": "stdout",
     "output_type": "stream",
     "text": [
      "Epoch 69: Loss: 0.7327, Accuracy: 89.65%\n"
     ]
    },
    {
     "name": "stderr",
     "output_type": "stream",
     "text": [
      "Epoch 70/200: 100%|██████████| 391/391 [00:21<00:00, 18.03it/s, Loss=0.730, Acc=89.75%]\n"
     ]
    },
    {
     "name": "stdout",
     "output_type": "stream",
     "text": [
      "Epoch 70: Loss: 0.7296, Accuracy: 89.75%\n"
     ]
    },
    {
     "name": "stderr",
     "output_type": "stream",
     "text": [
      "Epoch 71/200: 100%|██████████| 391/391 [00:21<00:00, 18.06it/s, Loss=0.728, Acc=89.95%]\n"
     ]
    },
    {
     "name": "stdout",
     "output_type": "stream",
     "text": [
      "Epoch 71: Loss: 0.7282, Accuracy: 89.95%\n"
     ]
    },
    {
     "name": "stderr",
     "output_type": "stream",
     "text": [
      "Epoch 72/200: 100%|██████████| 391/391 [00:21<00:00, 18.06it/s, Loss=0.725, Acc=89.93%]\n"
     ]
    },
    {
     "name": "stdout",
     "output_type": "stream",
     "text": [
      "Epoch 72: Loss: 0.7251, Accuracy: 89.93%\n"
     ]
    },
    {
     "name": "stderr",
     "output_type": "stream",
     "text": [
      "Epoch 73/200: 100%|██████████| 391/391 [00:21<00:00, 18.10it/s, Loss=0.722, Acc=90.12%]\n"
     ]
    },
    {
     "name": "stdout",
     "output_type": "stream",
     "text": [
      "Epoch 73: Loss: 0.7223, Accuracy: 90.12%\n"
     ]
    },
    {
     "name": "stderr",
     "output_type": "stream",
     "text": [
      "Epoch 74/200: 100%|██████████| 391/391 [00:21<00:00, 18.24it/s, Loss=0.722, Acc=90.04%]\n"
     ]
    },
    {
     "name": "stdout",
     "output_type": "stream",
     "text": [
      "Epoch 74: Loss: 0.7221, Accuracy: 90.04%\n"
     ]
    },
    {
     "name": "stderr",
     "output_type": "stream",
     "text": [
      "Epoch 75/200: 100%|██████████| 391/391 [00:21<00:00, 18.19it/s, Loss=0.716, Acc=90.32%]\n"
     ]
    },
    {
     "name": "stdout",
     "output_type": "stream",
     "text": [
      "Epoch 75: Loss: 0.7160, Accuracy: 90.32%\n"
     ]
    },
    {
     "name": "stderr",
     "output_type": "stream",
     "text": [
      "Epoch 76/200: 100%|██████████| 391/391 [00:21<00:00, 18.20it/s, Loss=0.717, Acc=90.34%]\n"
     ]
    },
    {
     "name": "stdout",
     "output_type": "stream",
     "text": [
      "Epoch 76: Loss: 0.7167, Accuracy: 90.34%\n"
     ]
    },
    {
     "name": "stderr",
     "output_type": "stream",
     "text": [
      "Epoch 77/200: 100%|██████████| 391/391 [00:21<00:00, 18.42it/s, Loss=0.716, Acc=90.57%]\n"
     ]
    },
    {
     "name": "stdout",
     "output_type": "stream",
     "text": [
      "Epoch 77: Loss: 0.7161, Accuracy: 90.57%\n"
     ]
    },
    {
     "name": "stderr",
     "output_type": "stream",
     "text": [
      "Epoch 78/200: 100%|██████████| 391/391 [00:21<00:00, 18.34it/s, Loss=0.718, Acc=90.36%]\n"
     ]
    },
    {
     "name": "stdout",
     "output_type": "stream",
     "text": [
      "Epoch 78: Loss: 0.7175, Accuracy: 90.36%\n"
     ]
    },
    {
     "name": "stderr",
     "output_type": "stream",
     "text": [
      "Epoch 79/200: 100%|██████████| 391/391 [00:21<00:00, 18.25it/s, Loss=0.715, Acc=90.43%]\n"
     ]
    },
    {
     "name": "stdout",
     "output_type": "stream",
     "text": [
      "Epoch 79: Loss: 0.7153, Accuracy: 90.43%\n"
     ]
    },
    {
     "name": "stderr",
     "output_type": "stream",
     "text": [
      "Epoch 80/200: 100%|██████████| 391/391 [00:21<00:00, 18.20it/s, Loss=0.716, Acc=90.37%]\n"
     ]
    },
    {
     "name": "stdout",
     "output_type": "stream",
     "text": [
      "Epoch 80: Loss: 0.7161, Accuracy: 90.37%\n"
     ]
    },
    {
     "name": "stderr",
     "output_type": "stream",
     "text": [
      "Epoch 81/200: 100%|██████████| 391/391 [00:21<00:00, 18.03it/s, Loss=0.717, Acc=90.51%]\n"
     ]
    },
    {
     "name": "stdout",
     "output_type": "stream",
     "text": [
      "Epoch 81: Loss: 0.7170, Accuracy: 90.51%\n"
     ]
    },
    {
     "name": "stderr",
     "output_type": "stream",
     "text": [
      "Epoch 82/200: 100%|██████████| 391/391 [00:21<00:00, 18.12it/s, Loss=0.717, Acc=90.38%]\n"
     ]
    },
    {
     "name": "stdout",
     "output_type": "stream",
     "text": [
      "Epoch 82: Loss: 0.7172, Accuracy: 90.38%\n"
     ]
    },
    {
     "name": "stderr",
     "output_type": "stream",
     "text": [
      "Epoch 83/200: 100%|██████████| 391/391 [00:21<00:00, 18.28it/s, Loss=0.715, Acc=90.48%]\n"
     ]
    },
    {
     "name": "stdout",
     "output_type": "stream",
     "text": [
      "Epoch 83: Loss: 0.7152, Accuracy: 90.48%\n"
     ]
    },
    {
     "name": "stderr",
     "output_type": "stream",
     "text": [
      "Epoch 84/200: 100%|██████████| 391/391 [00:21<00:00, 18.28it/s, Loss=0.715, Acc=90.48%]\n"
     ]
    },
    {
     "name": "stdout",
     "output_type": "stream",
     "text": [
      "Epoch 84: Loss: 0.7146, Accuracy: 90.48%\n"
     ]
    },
    {
     "name": "stderr",
     "output_type": "stream",
     "text": [
      "Epoch 85/200: 100%|██████████| 391/391 [00:21<00:00, 18.22it/s, Loss=0.715, Acc=90.47%]\n"
     ]
    },
    {
     "name": "stdout",
     "output_type": "stream",
     "text": [
      "Epoch 85: Loss: 0.7147, Accuracy: 90.47%\n"
     ]
    },
    {
     "name": "stderr",
     "output_type": "stream",
     "text": [
      "Epoch 86/200: 100%|██████████| 391/391 [00:21<00:00, 18.23it/s, Loss=0.717, Acc=90.47%]\n"
     ]
    },
    {
     "name": "stdout",
     "output_type": "stream",
     "text": [
      "Epoch 86: Loss: 0.7173, Accuracy: 90.47%\n"
     ]
    },
    {
     "name": "stderr",
     "output_type": "stream",
     "text": [
      "Epoch 87/200: 100%|██████████| 391/391 [00:21<00:00, 18.29it/s, Loss=0.715, Acc=90.47%]\n"
     ]
    },
    {
     "name": "stdout",
     "output_type": "stream",
     "text": [
      "Epoch 87: Loss: 0.7150, Accuracy: 90.47%\n"
     ]
    },
    {
     "name": "stderr",
     "output_type": "stream",
     "text": [
      "Epoch 88/200: 100%|██████████| 391/391 [00:21<00:00, 18.29it/s, Loss=0.712, Acc=90.68%]\n"
     ]
    },
    {
     "name": "stdout",
     "output_type": "stream",
     "text": [
      "Epoch 88: Loss: 0.7123, Accuracy: 90.68%\n"
     ]
    },
    {
     "name": "stderr",
     "output_type": "stream",
     "text": [
      "Epoch 89/200: 100%|██████████| 391/391 [00:21<00:00, 18.52it/s, Loss=0.715, Acc=90.50%]\n"
     ]
    },
    {
     "name": "stdout",
     "output_type": "stream",
     "text": [
      "Epoch 89: Loss: 0.7146, Accuracy: 90.50%\n"
     ]
    },
    {
     "name": "stderr",
     "output_type": "stream",
     "text": [
      "Epoch 90/200: 100%|██████████| 391/391 [00:21<00:00, 18.50it/s, Loss=0.717, Acc=90.43%]\n"
     ]
    },
    {
     "name": "stdout",
     "output_type": "stream",
     "text": [
      "Epoch 90: Loss: 0.7170, Accuracy: 90.43%\n"
     ]
    },
    {
     "name": "stderr",
     "output_type": "stream",
     "text": [
      "Epoch 91/200: 100%|██████████| 391/391 [00:21<00:00, 18.44it/s, Loss=0.716, Acc=90.46%]\n"
     ]
    },
    {
     "name": "stdout",
     "output_type": "stream",
     "text": [
      "Epoch 91: Loss: 0.7159, Accuracy: 90.46%\n"
     ]
    },
    {
     "name": "stderr",
     "output_type": "stream",
     "text": [
      "Epoch 92/200: 100%|██████████| 391/391 [00:21<00:00, 18.30it/s, Loss=0.717, Acc=90.36%]\n"
     ]
    },
    {
     "name": "stdout",
     "output_type": "stream",
     "text": [
      "Epoch 92: Loss: 0.7172, Accuracy: 90.36%\n"
     ]
    },
    {
     "name": "stderr",
     "output_type": "stream",
     "text": [
      "Epoch 93/200: 100%|██████████| 391/391 [00:21<00:00, 18.23it/s, Loss=0.716, Acc=90.54%]\n"
     ]
    },
    {
     "name": "stdout",
     "output_type": "stream",
     "text": [
      "Epoch 93: Loss: 0.7157, Accuracy: 90.54%\n"
     ]
    },
    {
     "name": "stderr",
     "output_type": "stream",
     "text": [
      "Epoch 94/200: 100%|██████████| 391/391 [00:21<00:00, 18.31it/s, Loss=0.719, Acc=90.26%]\n"
     ]
    },
    {
     "name": "stdout",
     "output_type": "stream",
     "text": [
      "Epoch 94: Loss: 0.7189, Accuracy: 90.26%\n"
     ]
    },
    {
     "name": "stderr",
     "output_type": "stream",
     "text": [
      "Epoch 95/200: 100%|██████████| 391/391 [00:21<00:00, 18.28it/s, Loss=0.718, Acc=90.40%]\n"
     ]
    },
    {
     "name": "stdout",
     "output_type": "stream",
     "text": [
      "Epoch 95: Loss: 0.7178, Accuracy: 90.40%\n"
     ]
    },
    {
     "name": "stderr",
     "output_type": "stream",
     "text": [
      "Epoch 96/200: 100%|██████████| 391/391 [00:21<00:00, 17.89it/s, Loss=0.719, Acc=90.39%]\n"
     ]
    },
    {
     "name": "stdout",
     "output_type": "stream",
     "text": [
      "Epoch 96: Loss: 0.7191, Accuracy: 90.39%\n"
     ]
    },
    {
     "name": "stderr",
     "output_type": "stream",
     "text": [
      "Epoch 97/200: 100%|██████████| 391/391 [00:22<00:00, 17.39it/s, Loss=0.720, Acc=90.23%]\n"
     ]
    },
    {
     "name": "stdout",
     "output_type": "stream",
     "text": [
      "Epoch 97: Loss: 0.7204, Accuracy: 90.23%\n"
     ]
    },
    {
     "name": "stderr",
     "output_type": "stream",
     "text": [
      "Epoch 98/200: 100%|██████████| 391/391 [00:22<00:00, 17.65it/s, Loss=0.719, Acc=90.32%]\n"
     ]
    },
    {
     "name": "stdout",
     "output_type": "stream",
     "text": [
      "Epoch 98: Loss: 0.7190, Accuracy: 90.32%\n"
     ]
    },
    {
     "name": "stderr",
     "output_type": "stream",
     "text": [
      "Epoch 99/200: 100%|██████████| 391/391 [00:22<00:00, 17.67it/s, Loss=0.721, Acc=90.14%]\n"
     ]
    },
    {
     "name": "stdout",
     "output_type": "stream",
     "text": [
      "Epoch 99: Loss: 0.7213, Accuracy: 90.14%\n"
     ]
    },
    {
     "name": "stderr",
     "output_type": "stream",
     "text": [
      "Epoch 100/200: 100%|██████████| 391/391 [00:22<00:00, 17.47it/s, Loss=0.721, Acc=90.17%]\n"
     ]
    },
    {
     "name": "stdout",
     "output_type": "stream",
     "text": [
      "Epoch 100: Loss: 0.7212, Accuracy: 90.17%\n"
     ]
    },
    {
     "name": "stderr",
     "output_type": "stream",
     "text": [
      "Epoch 101/200: 100%|██████████| 391/391 [00:22<00:00, 17.48it/s, Loss=0.718, Acc=90.31%]\n"
     ]
    },
    {
     "name": "stdout",
     "output_type": "stream",
     "text": [
      "Epoch 101: Loss: 0.7181, Accuracy: 90.31%\n"
     ]
    },
    {
     "name": "stderr",
     "output_type": "stream",
     "text": [
      "Epoch 102/200: 100%|██████████| 391/391 [00:22<00:00, 17.61it/s, Loss=0.718, Acc=90.30%]\n"
     ]
    },
    {
     "name": "stdout",
     "output_type": "stream",
     "text": [
      "Epoch 102: Loss: 0.7184, Accuracy: 90.30%\n"
     ]
    },
    {
     "name": "stderr",
     "output_type": "stream",
     "text": [
      "Epoch 103/200: 100%|██████████| 391/391 [00:22<00:00, 17.53it/s, Loss=0.722, Acc=90.12%]\n"
     ]
    },
    {
     "name": "stdout",
     "output_type": "stream",
     "text": [
      "Epoch 103: Loss: 0.7223, Accuracy: 90.12%\n"
     ]
    },
    {
     "name": "stderr",
     "output_type": "stream",
     "text": [
      "Epoch 104/200: 100%|██████████| 391/391 [00:22<00:00, 17.55it/s, Loss=0.722, Acc=90.24%]\n"
     ]
    },
    {
     "name": "stdout",
     "output_type": "stream",
     "text": [
      "Epoch 104: Loss: 0.7216, Accuracy: 90.24%\n"
     ]
    },
    {
     "name": "stderr",
     "output_type": "stream",
     "text": [
      "Epoch 105/200: 100%|██████████| 391/391 [00:22<00:00, 17.56it/s, Loss=0.720, Acc=90.37%]\n"
     ]
    },
    {
     "name": "stdout",
     "output_type": "stream",
     "text": [
      "Epoch 105: Loss: 0.7205, Accuracy: 90.37%\n"
     ]
    },
    {
     "name": "stderr",
     "output_type": "stream",
     "text": [
      "Epoch 106/200: 100%|██████████| 391/391 [00:22<00:00, 17.36it/s, Loss=0.722, Acc=90.22%]\n"
     ]
    },
    {
     "name": "stdout",
     "output_type": "stream",
     "text": [
      "Epoch 106: Loss: 0.7221, Accuracy: 90.22%\n"
     ]
    },
    {
     "name": "stderr",
     "output_type": "stream",
     "text": [
      "Epoch 107/200: 100%|██████████| 391/391 [00:22<00:00, 17.47it/s, Loss=0.723, Acc=90.05%]\n"
     ]
    },
    {
     "name": "stdout",
     "output_type": "stream",
     "text": [
      "Epoch 107: Loss: 0.7232, Accuracy: 90.05%\n"
     ]
    },
    {
     "name": "stderr",
     "output_type": "stream",
     "text": [
      "Epoch 108/200: 100%|██████████| 391/391 [00:22<00:00, 17.40it/s, Loss=0.721, Acc=90.21%]\n"
     ]
    },
    {
     "name": "stdout",
     "output_type": "stream",
     "text": [
      "Epoch 108: Loss: 0.7205, Accuracy: 90.21%\n"
     ]
    },
    {
     "name": "stderr",
     "output_type": "stream",
     "text": [
      "Epoch 109/200: 100%|██████████| 391/391 [00:22<00:00, 17.50it/s, Loss=0.720, Acc=90.37%]\n"
     ]
    },
    {
     "name": "stdout",
     "output_type": "stream",
     "text": [
      "Epoch 109: Loss: 0.7198, Accuracy: 90.37%\n"
     ]
    },
    {
     "name": "stderr",
     "output_type": "stream",
     "text": [
      "Epoch 110/200: 100%|██████████| 391/391 [00:22<00:00, 17.53it/s, Loss=0.719, Acc=90.29%]\n"
     ]
    },
    {
     "name": "stdout",
     "output_type": "stream",
     "text": [
      "Epoch 110: Loss: 0.7187, Accuracy: 90.29%\n"
     ]
    },
    {
     "name": "stderr",
     "output_type": "stream",
     "text": [
      "Epoch 111/200: 100%|██████████| 391/391 [00:22<00:00, 17.47it/s, Loss=0.720, Acc=90.22%]\n"
     ]
    },
    {
     "name": "stdout",
     "output_type": "stream",
     "text": [
      "Epoch 111: Loss: 0.7198, Accuracy: 90.22%\n"
     ]
    },
    {
     "name": "stderr",
     "output_type": "stream",
     "text": [
      "Epoch 112/200: 100%|██████████| 391/391 [00:22<00:00, 17.58it/s, Loss=0.722, Acc=90.07%]\n"
     ]
    },
    {
     "name": "stdout",
     "output_type": "stream",
     "text": [
      "Epoch 112: Loss: 0.7219, Accuracy: 90.07%\n"
     ]
    },
    {
     "name": "stderr",
     "output_type": "stream",
     "text": [
      "Epoch 113/200: 100%|██████████| 391/391 [00:22<00:00, 17.34it/s, Loss=0.720, Acc=90.29%]\n"
     ]
    },
    {
     "name": "stdout",
     "output_type": "stream",
     "text": [
      "Epoch 113: Loss: 0.7199, Accuracy: 90.29%\n"
     ]
    },
    {
     "name": "stderr",
     "output_type": "stream",
     "text": [
      "Epoch 114/200: 100%|██████████| 391/391 [00:22<00:00, 17.34it/s, Loss=0.719, Acc=90.29%]\n"
     ]
    },
    {
     "name": "stdout",
     "output_type": "stream",
     "text": [
      "Epoch 114: Loss: 0.7189, Accuracy: 90.29%\n"
     ]
    },
    {
     "name": "stderr",
     "output_type": "stream",
     "text": [
      "Epoch 115/200: 100%|██████████| 391/391 [00:22<00:00, 17.52it/s, Loss=0.718, Acc=90.26%]\n"
     ]
    },
    {
     "name": "stdout",
     "output_type": "stream",
     "text": [
      "Epoch 115: Loss: 0.7184, Accuracy: 90.26%\n"
     ]
    },
    {
     "name": "stderr",
     "output_type": "stream",
     "text": [
      "Epoch 116/200: 100%|██████████| 391/391 [00:22<00:00, 17.43it/s, Loss=0.720, Acc=90.27%]\n"
     ]
    },
    {
     "name": "stdout",
     "output_type": "stream",
     "text": [
      "Epoch 116: Loss: 0.7202, Accuracy: 90.27%\n"
     ]
    },
    {
     "name": "stderr",
     "output_type": "stream",
     "text": [
      "Epoch 117/200: 100%|██████████| 391/391 [00:22<00:00, 17.34it/s, Loss=0.720, Acc=90.25%]\n"
     ]
    },
    {
     "name": "stdout",
     "output_type": "stream",
     "text": [
      "Epoch 117: Loss: 0.7201, Accuracy: 90.25%\n"
     ]
    },
    {
     "name": "stderr",
     "output_type": "stream",
     "text": [
      "Epoch 118/200: 100%|██████████| 391/391 [00:22<00:00, 17.32it/s, Loss=0.723, Acc=90.12%]\n"
     ]
    },
    {
     "name": "stdout",
     "output_type": "stream",
     "text": [
      "Epoch 118: Loss: 0.7229, Accuracy: 90.12%\n"
     ]
    },
    {
     "name": "stderr",
     "output_type": "stream",
     "text": [
      "Epoch 119/200: 100%|██████████| 391/391 [00:22<00:00, 17.36it/s, Loss=0.722, Acc=90.19%]\n"
     ]
    },
    {
     "name": "stdout",
     "output_type": "stream",
     "text": [
      "Epoch 119: Loss: 0.7220, Accuracy: 90.19%\n"
     ]
    },
    {
     "name": "stderr",
     "output_type": "stream",
     "text": [
      "Epoch 120/200: 100%|██████████| 391/391 [00:22<00:00, 17.29it/s, Loss=0.722, Acc=90.18%]\n"
     ]
    },
    {
     "name": "stdout",
     "output_type": "stream",
     "text": [
      "Epoch 120: Loss: 0.7222, Accuracy: 90.18%\n"
     ]
    },
    {
     "name": "stderr",
     "output_type": "stream",
     "text": [
      "Epoch 121/200: 100%|██████████| 391/391 [00:22<00:00, 17.42it/s, Loss=0.640, Acc=93.86%]\n"
     ]
    },
    {
     "name": "stdout",
     "output_type": "stream",
     "text": [
      "Epoch 121: Loss: 0.6400, Accuracy: 93.86%\n"
     ]
    },
    {
     "name": "stderr",
     "output_type": "stream",
     "text": [
      "Epoch 122/200: 100%|██████████| 391/391 [00:22<00:00, 17.34it/s, Loss=0.613, Acc=95.15%]\n"
     ]
    },
    {
     "name": "stdout",
     "output_type": "stream",
     "text": [
      "Epoch 122: Loss: 0.6131, Accuracy: 95.15%\n"
     ]
    },
    {
     "name": "stderr",
     "output_type": "stream",
     "text": [
      "Epoch 123/200: 100%|██████████| 391/391 [00:22<00:00, 17.53it/s, Loss=0.604, Acc=95.49%]\n"
     ]
    },
    {
     "name": "stdout",
     "output_type": "stream",
     "text": [
      "Epoch 123: Loss: 0.6041, Accuracy: 95.49%\n"
     ]
    },
    {
     "name": "stderr",
     "output_type": "stream",
     "text": [
      "Epoch 124/200: 100%|██████████| 391/391 [00:22<00:00, 17.42it/s, Loss=0.596, Acc=95.87%]\n"
     ]
    },
    {
     "name": "stdout",
     "output_type": "stream",
     "text": [
      "Epoch 124: Loss: 0.5961, Accuracy: 95.87%\n"
     ]
    },
    {
     "name": "stderr",
     "output_type": "stream",
     "text": [
      "Epoch 125/200: 100%|██████████| 391/391 [00:22<00:00, 17.47it/s, Loss=0.589, Acc=96.17%]\n"
     ]
    },
    {
     "name": "stdout",
     "output_type": "stream",
     "text": [
      "Epoch 125: Loss: 0.5891, Accuracy: 96.17%\n"
     ]
    },
    {
     "name": "stderr",
     "output_type": "stream",
     "text": [
      "Epoch 126/200: 100%|██████████| 391/391 [00:22<00:00, 17.37it/s, Loss=0.585, Acc=96.39%]\n"
     ]
    },
    {
     "name": "stdout",
     "output_type": "stream",
     "text": [
      "Epoch 126: Loss: 0.5847, Accuracy: 96.39%\n"
     ]
    },
    {
     "name": "stderr",
     "output_type": "stream",
     "text": [
      "Epoch 127/200: 100%|██████████| 391/391 [00:22<00:00, 17.43it/s, Loss=0.583, Acc=96.41%]\n"
     ]
    },
    {
     "name": "stdout",
     "output_type": "stream",
     "text": [
      "Epoch 127: Loss: 0.5827, Accuracy: 96.41%\n"
     ]
    },
    {
     "name": "stderr",
     "output_type": "stream",
     "text": [
      "Epoch 128/200: 100%|██████████| 391/391 [00:22<00:00, 17.47it/s, Loss=0.576, Acc=96.76%]\n"
     ]
    },
    {
     "name": "stdout",
     "output_type": "stream",
     "text": [
      "Epoch 128: Loss: 0.5764, Accuracy: 96.76%\n"
     ]
    },
    {
     "name": "stderr",
     "output_type": "stream",
     "text": [
      "Epoch 129/200: 100%|██████████| 391/391 [00:22<00:00, 17.59it/s, Loss=0.578, Acc=96.67%]\n"
     ]
    },
    {
     "name": "stdout",
     "output_type": "stream",
     "text": [
      "Epoch 129: Loss: 0.5783, Accuracy: 96.67%\n"
     ]
    },
    {
     "name": "stderr",
     "output_type": "stream",
     "text": [
      "Epoch 130/200: 100%|██████████| 391/391 [00:22<00:00, 17.32it/s, Loss=0.574, Acc=96.77%]\n"
     ]
    },
    {
     "name": "stdout",
     "output_type": "stream",
     "text": [
      "Epoch 130: Loss: 0.5743, Accuracy: 96.77%\n"
     ]
    },
    {
     "name": "stderr",
     "output_type": "stream",
     "text": [
      "Epoch 131/200: 100%|██████████| 391/391 [00:22<00:00, 17.07it/s, Loss=0.573, Acc=96.93%]\n"
     ]
    },
    {
     "name": "stdout",
     "output_type": "stream",
     "text": [
      "Epoch 131: Loss: 0.5734, Accuracy: 96.93%\n"
     ]
    },
    {
     "name": "stderr",
     "output_type": "stream",
     "text": [
      "Epoch 132/200: 100%|██████████| 391/391 [00:22<00:00, 17.36it/s, Loss=0.571, Acc=96.99%]\n"
     ]
    },
    {
     "name": "stdout",
     "output_type": "stream",
     "text": [
      "Epoch 132: Loss: 0.5711, Accuracy: 96.99%\n"
     ]
    },
    {
     "name": "stderr",
     "output_type": "stream",
     "text": [
      "Epoch 133/200: 100%|██████████| 391/391 [00:22<00:00, 17.28it/s, Loss=0.570, Acc=97.00%]\n"
     ]
    },
    {
     "name": "stdout",
     "output_type": "stream",
     "text": [
      "Epoch 133: Loss: 0.5697, Accuracy: 97.00%\n"
     ]
    },
    {
     "name": "stderr",
     "output_type": "stream",
     "text": [
      "Epoch 134/200: 100%|██████████| 391/391 [00:22<00:00, 17.41it/s, Loss=0.566, Acc=97.25%]\n"
     ]
    },
    {
     "name": "stdout",
     "output_type": "stream",
     "text": [
      "Epoch 134: Loss: 0.5662, Accuracy: 97.25%\n"
     ]
    },
    {
     "name": "stderr",
     "output_type": "stream",
     "text": [
      "Epoch 135/200: 100%|██████████| 391/391 [00:22<00:00, 17.30it/s, Loss=0.566, Acc=97.15%]\n"
     ]
    },
    {
     "name": "stdout",
     "output_type": "stream",
     "text": [
      "Epoch 135: Loss: 0.5663, Accuracy: 97.15%\n"
     ]
    },
    {
     "name": "stderr",
     "output_type": "stream",
     "text": [
      "Epoch 136/200: 100%|██████████| 391/391 [00:22<00:00, 17.50it/s, Loss=0.565, Acc=97.25%]\n"
     ]
    },
    {
     "name": "stdout",
     "output_type": "stream",
     "text": [
      "Epoch 136: Loss: 0.5650, Accuracy: 97.25%\n"
     ]
    },
    {
     "name": "stderr",
     "output_type": "stream",
     "text": [
      "Epoch 137/200: 100%|██████████| 391/391 [00:22<00:00, 17.26it/s, Loss=0.563, Acc=97.28%]\n"
     ]
    },
    {
     "name": "stdout",
     "output_type": "stream",
     "text": [
      "Epoch 137: Loss: 0.5630, Accuracy: 97.28%\n"
     ]
    },
    {
     "name": "stderr",
     "output_type": "stream",
     "text": [
      "Epoch 138/200: 100%|██████████| 391/391 [00:22<00:00, 17.27it/s, Loss=0.563, Acc=97.36%]\n"
     ]
    },
    {
     "name": "stdout",
     "output_type": "stream",
     "text": [
      "Epoch 138: Loss: 0.5630, Accuracy: 97.36%\n"
     ]
    },
    {
     "name": "stderr",
     "output_type": "stream",
     "text": [
      "Epoch 139/200: 100%|██████████| 391/391 [00:22<00:00, 17.36it/s, Loss=0.561, Acc=97.39%]\n"
     ]
    },
    {
     "name": "stdout",
     "output_type": "stream",
     "text": [
      "Epoch 139: Loss: 0.5613, Accuracy: 97.39%\n"
     ]
    },
    {
     "name": "stderr",
     "output_type": "stream",
     "text": [
      "Epoch 140/200: 100%|██████████| 391/391 [00:22<00:00, 17.37it/s, Loss=0.560, Acc=97.48%]\n"
     ]
    },
    {
     "name": "stdout",
     "output_type": "stream",
     "text": [
      "Epoch 140: Loss: 0.5604, Accuracy: 97.48%\n"
     ]
    },
    {
     "name": "stderr",
     "output_type": "stream",
     "text": [
      "Epoch 141/200: 100%|██████████| 391/391 [00:22<00:00, 17.30it/s, Loss=0.560, Acc=97.50%]\n"
     ]
    },
    {
     "name": "stdout",
     "output_type": "stream",
     "text": [
      "Epoch 141: Loss: 0.5598, Accuracy: 97.50%\n"
     ]
    },
    {
     "name": "stderr",
     "output_type": "stream",
     "text": [
      "Epoch 142/200: 100%|██████████| 391/391 [00:22<00:00, 17.46it/s, Loss=0.560, Acc=97.45%]\n"
     ]
    },
    {
     "name": "stdout",
     "output_type": "stream",
     "text": [
      "Epoch 142: Loss: 0.5602, Accuracy: 97.45%\n"
     ]
    },
    {
     "name": "stderr",
     "output_type": "stream",
     "text": [
      "Epoch 143/200: 100%|██████████| 391/391 [00:22<00:00, 17.34it/s, Loss=0.559, Acc=97.50%]\n"
     ]
    },
    {
     "name": "stdout",
     "output_type": "stream",
     "text": [
      "Epoch 143: Loss: 0.5588, Accuracy: 97.50%\n"
     ]
    },
    {
     "name": "stderr",
     "output_type": "stream",
     "text": [
      "Epoch 144/200: 100%|██████████| 391/391 [00:22<00:00, 17.33it/s, Loss=0.556, Acc=97.69%]\n"
     ]
    },
    {
     "name": "stdout",
     "output_type": "stream",
     "text": [
      "Epoch 144: Loss: 0.5557, Accuracy: 97.69%\n"
     ]
    },
    {
     "name": "stderr",
     "output_type": "stream",
     "text": [
      "Epoch 145/200: 100%|██████████| 391/391 [00:22<00:00, 17.26it/s, Loss=0.555, Acc=97.73%]\n"
     ]
    },
    {
     "name": "stdout",
     "output_type": "stream",
     "text": [
      "Epoch 145: Loss: 0.5546, Accuracy: 97.73%\n"
     ]
    },
    {
     "name": "stderr",
     "output_type": "stream",
     "text": [
      "Epoch 146/200: 100%|██████████| 391/391 [00:22<00:00, 17.30it/s, Loss=0.555, Acc=97.72%]\n"
     ]
    },
    {
     "name": "stdout",
     "output_type": "stream",
     "text": [
      "Epoch 146: Loss: 0.5554, Accuracy: 97.72%\n"
     ]
    },
    {
     "name": "stderr",
     "output_type": "stream",
     "text": [
      "Epoch 147/200: 100%|██████████| 391/391 [00:22<00:00, 17.19it/s, Loss=0.556, Acc=97.67%]\n"
     ]
    },
    {
     "name": "stdout",
     "output_type": "stream",
     "text": [
      "Epoch 147: Loss: 0.5559, Accuracy: 97.67%\n"
     ]
    },
    {
     "name": "stderr",
     "output_type": "stream",
     "text": [
      "Epoch 148/200: 100%|██████████| 391/391 [00:22<00:00, 17.39it/s, Loss=0.555, Acc=97.67%]\n"
     ]
    },
    {
     "name": "stdout",
     "output_type": "stream",
     "text": [
      "Epoch 148: Loss: 0.5554, Accuracy: 97.67%\n"
     ]
    },
    {
     "name": "stderr",
     "output_type": "stream",
     "text": [
      "Epoch 149/200: 100%|██████████| 391/391 [00:22<00:00, 17.30it/s, Loss=0.555, Acc=97.65%]\n"
     ]
    },
    {
     "name": "stdout",
     "output_type": "stream",
     "text": [
      "Epoch 149: Loss: 0.5549, Accuracy: 97.65%\n"
     ]
    },
    {
     "name": "stderr",
     "output_type": "stream",
     "text": [
      "Epoch 150/200: 100%|██████████| 391/391 [00:22<00:00, 17.28it/s, Loss=0.555, Acc=97.72%]\n"
     ]
    },
    {
     "name": "stdout",
     "output_type": "stream",
     "text": [
      "Epoch 150: Loss: 0.5555, Accuracy: 97.72%\n"
     ]
    },
    {
     "name": "stderr",
     "output_type": "stream",
     "text": [
      "Epoch 151/200: 100%|██████████| 391/391 [00:22<00:00, 17.26it/s, Loss=0.552, Acc=97.81%]\n"
     ]
    },
    {
     "name": "stdout",
     "output_type": "stream",
     "text": [
      "Epoch 151: Loss: 0.5518, Accuracy: 97.81%\n"
     ]
    },
    {
     "name": "stderr",
     "output_type": "stream",
     "text": [
      "Epoch 152/200: 100%|██████████| 391/391 [00:22<00:00, 17.27it/s, Loss=0.552, Acc=97.77%]\n"
     ]
    },
    {
     "name": "stdout",
     "output_type": "stream",
     "text": [
      "Epoch 152: Loss: 0.5525, Accuracy: 97.77%\n"
     ]
    },
    {
     "name": "stderr",
     "output_type": "stream",
     "text": [
      "Epoch 153/200: 100%|██████████| 391/391 [00:22<00:00, 17.34it/s, Loss=0.552, Acc=97.81%]\n"
     ]
    },
    {
     "name": "stdout",
     "output_type": "stream",
     "text": [
      "Epoch 153: Loss: 0.5525, Accuracy: 97.81%\n"
     ]
    },
    {
     "name": "stderr",
     "output_type": "stream",
     "text": [
      "Epoch 154/200: 100%|██████████| 391/391 [00:22<00:00, 17.40it/s, Loss=0.555, Acc=97.65%]\n"
     ]
    },
    {
     "name": "stdout",
     "output_type": "stream",
     "text": [
      "Epoch 154: Loss: 0.5552, Accuracy: 97.65%\n"
     ]
    },
    {
     "name": "stderr",
     "output_type": "stream",
     "text": [
      "Epoch 155/200: 100%|██████████| 391/391 [00:22<00:00, 17.37it/s, Loss=0.552, Acc=97.76%]\n"
     ]
    },
    {
     "name": "stdout",
     "output_type": "stream",
     "text": [
      "Epoch 155: Loss: 0.5517, Accuracy: 97.76%\n"
     ]
    },
    {
     "name": "stderr",
     "output_type": "stream",
     "text": [
      "Epoch 156/200: 100%|██████████| 391/391 [00:22<00:00, 17.46it/s, Loss=0.551, Acc=97.88%]\n"
     ]
    },
    {
     "name": "stdout",
     "output_type": "stream",
     "text": [
      "Epoch 156: Loss: 0.5508, Accuracy: 97.88%\n"
     ]
    },
    {
     "name": "stderr",
     "output_type": "stream",
     "text": [
      "Epoch 157/200: 100%|██████████| 391/391 [00:22<00:00, 17.31it/s, Loss=0.553, Acc=97.79%]\n"
     ]
    },
    {
     "name": "stdout",
     "output_type": "stream",
     "text": [
      "Epoch 157: Loss: 0.5531, Accuracy: 97.79%\n"
     ]
    },
    {
     "name": "stderr",
     "output_type": "stream",
     "text": [
      "Epoch 158/200: 100%|██████████| 391/391 [00:22<00:00, 17.19it/s, Loss=0.551, Acc=97.84%]\n"
     ]
    },
    {
     "name": "stdout",
     "output_type": "stream",
     "text": [
      "Epoch 158: Loss: 0.5506, Accuracy: 97.84%\n"
     ]
    },
    {
     "name": "stderr",
     "output_type": "stream",
     "text": [
      "Epoch 159/200: 100%|██████████| 391/391 [00:22<00:00, 17.39it/s, Loss=0.550, Acc=97.78%]\n"
     ]
    },
    {
     "name": "stdout",
     "output_type": "stream",
     "text": [
      "Epoch 159: Loss: 0.5500, Accuracy: 97.78%\n"
     ]
    },
    {
     "name": "stderr",
     "output_type": "stream",
     "text": [
      "Epoch 160/200: 100%|██████████| 391/391 [00:22<00:00, 17.24it/s, Loss=0.551, Acc=97.86%]\n"
     ]
    },
    {
     "name": "stdout",
     "output_type": "stream",
     "text": [
      "Epoch 160: Loss: 0.5512, Accuracy: 97.86%\n"
     ]
    },
    {
     "name": "stderr",
     "output_type": "stream",
     "text": [
      "Epoch 161/200: 100%|██████████| 391/391 [00:22<00:00, 17.23it/s, Loss=0.535, Acc=98.55%]\n"
     ]
    },
    {
     "name": "stdout",
     "output_type": "stream",
     "text": [
      "Epoch 161: Loss: 0.5353, Accuracy: 98.55%\n"
     ]
    },
    {
     "name": "stderr",
     "output_type": "stream",
     "text": [
      "Epoch 162/200: 100%|██████████| 391/391 [00:22<00:00, 17.40it/s, Loss=0.529, Acc=98.83%]\n"
     ]
    },
    {
     "name": "stdout",
     "output_type": "stream",
     "text": [
      "Epoch 162: Loss: 0.5291, Accuracy: 98.83%\n"
     ]
    },
    {
     "name": "stderr",
     "output_type": "stream",
     "text": [
      "Epoch 163/200: 100%|██████████| 391/391 [00:22<00:00, 17.26it/s, Loss=0.525, Acc=98.99%]\n"
     ]
    },
    {
     "name": "stdout",
     "output_type": "stream",
     "text": [
      "Epoch 163: Loss: 0.5252, Accuracy: 98.99%\n"
     ]
    },
    {
     "name": "stderr",
     "output_type": "stream",
     "text": [
      "Epoch 164/200: 100%|██████████| 391/391 [00:22<00:00, 17.38it/s, Loss=0.524, Acc=99.06%]\n"
     ]
    },
    {
     "name": "stdout",
     "output_type": "stream",
     "text": [
      "Epoch 164: Loss: 0.5238, Accuracy: 99.06%\n"
     ]
    },
    {
     "name": "stderr",
     "output_type": "stream",
     "text": [
      "Epoch 165/200: 100%|██████████| 391/391 [00:22<00:00, 17.31it/s, Loss=0.522, Acc=99.11%]\n"
     ]
    },
    {
     "name": "stdout",
     "output_type": "stream",
     "text": [
      "Epoch 165: Loss: 0.5222, Accuracy: 99.11%\n"
     ]
    },
    {
     "name": "stderr",
     "output_type": "stream",
     "text": [
      "Epoch 166/200: 100%|██████████| 391/391 [00:22<00:00, 17.47it/s, Loss=0.522, Acc=99.18%]\n"
     ]
    },
    {
     "name": "stdout",
     "output_type": "stream",
     "text": [
      "Epoch 166: Loss: 0.5218, Accuracy: 99.18%\n"
     ]
    },
    {
     "name": "stderr",
     "output_type": "stream",
     "text": [
      "Epoch 167/200: 100%|██████████| 391/391 [00:22<00:00, 17.38it/s, Loss=0.520, Acc=99.23%]\n"
     ]
    },
    {
     "name": "stdout",
     "output_type": "stream",
     "text": [
      "Epoch 167: Loss: 0.5203, Accuracy: 99.23%\n"
     ]
    },
    {
     "name": "stderr",
     "output_type": "stream",
     "text": [
      "Epoch 168/200: 100%|██████████| 391/391 [00:22<00:00, 17.36it/s, Loss=0.520, Acc=99.25%]\n"
     ]
    },
    {
     "name": "stdout",
     "output_type": "stream",
     "text": [
      "Epoch 168: Loss: 0.5199, Accuracy: 99.25%\n"
     ]
    },
    {
     "name": "stderr",
     "output_type": "stream",
     "text": [
      "Epoch 169/200: 100%|██████████| 391/391 [00:22<00:00, 17.35it/s, Loss=0.521, Acc=99.22%]\n"
     ]
    },
    {
     "name": "stdout",
     "output_type": "stream",
     "text": [
      "Epoch 169: Loss: 0.5206, Accuracy: 99.22%\n"
     ]
    },
    {
     "name": "stderr",
     "output_type": "stream",
     "text": [
      "Epoch 170/200: 100%|██████████| 391/391 [00:22<00:00, 17.42it/s, Loss=0.519, Acc=99.24%]\n"
     ]
    },
    {
     "name": "stdout",
     "output_type": "stream",
     "text": [
      "Epoch 170: Loss: 0.5194, Accuracy: 99.24%\n"
     ]
    },
    {
     "name": "stderr",
     "output_type": "stream",
     "text": [
      "Epoch 171/200: 100%|██████████| 391/391 [00:22<00:00, 17.36it/s, Loss=0.518, Acc=99.29%]\n"
     ]
    },
    {
     "name": "stdout",
     "output_type": "stream",
     "text": [
      "Epoch 171: Loss: 0.5183, Accuracy: 99.29%\n"
     ]
    },
    {
     "name": "stderr",
     "output_type": "stream",
     "text": [
      "Epoch 172/200: 100%|██████████| 391/391 [00:22<00:00, 17.23it/s, Loss=0.518, Acc=99.28%]\n"
     ]
    },
    {
     "name": "stdout",
     "output_type": "stream",
     "text": [
      "Epoch 172: Loss: 0.5182, Accuracy: 99.28%\n"
     ]
    },
    {
     "name": "stderr",
     "output_type": "stream",
     "text": [
      "Epoch 173/200: 100%|██████████| 391/391 [00:22<00:00, 17.32it/s, Loss=0.519, Acc=99.23%]\n"
     ]
    },
    {
     "name": "stdout",
     "output_type": "stream",
     "text": [
      "Epoch 173: Loss: 0.5194, Accuracy: 99.23%\n"
     ]
    },
    {
     "name": "stderr",
     "output_type": "stream",
     "text": [
      "Epoch 174/200: 100%|██████████| 391/391 [00:22<00:00, 17.33it/s, Loss=0.516, Acc=99.39%]\n"
     ]
    },
    {
     "name": "stdout",
     "output_type": "stream",
     "text": [
      "Epoch 174: Loss: 0.5158, Accuracy: 99.39%\n"
     ]
    },
    {
     "name": "stderr",
     "output_type": "stream",
     "text": [
      "Epoch 175/200: 100%|██████████| 391/391 [00:22<00:00, 17.26it/s, Loss=0.517, Acc=99.31%]\n"
     ]
    },
    {
     "name": "stdout",
     "output_type": "stream",
     "text": [
      "Epoch 175: Loss: 0.5172, Accuracy: 99.31%\n"
     ]
    },
    {
     "name": "stderr",
     "output_type": "stream",
     "text": [
      "Epoch 176/200: 100%|██████████| 391/391 [00:22<00:00, 17.27it/s, Loss=0.516, Acc=99.38%]\n"
     ]
    },
    {
     "name": "stdout",
     "output_type": "stream",
     "text": [
      "Epoch 176: Loss: 0.5162, Accuracy: 99.38%\n"
     ]
    },
    {
     "name": "stderr",
     "output_type": "stream",
     "text": [
      "Epoch 177/200: 100%|██████████| 391/391 [00:22<00:00, 17.29it/s, Loss=0.517, Acc=99.34%]\n"
     ]
    },
    {
     "name": "stdout",
     "output_type": "stream",
     "text": [
      "Epoch 177: Loss: 0.5167, Accuracy: 99.34%\n"
     ]
    },
    {
     "name": "stderr",
     "output_type": "stream",
     "text": [
      "Epoch 178/200: 100%|██████████| 391/391 [00:22<00:00, 17.29it/s, Loss=0.517, Acc=99.36%]\n"
     ]
    },
    {
     "name": "stdout",
     "output_type": "stream",
     "text": [
      "Epoch 178: Loss: 0.5167, Accuracy: 99.36%\n"
     ]
    },
    {
     "name": "stderr",
     "output_type": "stream",
     "text": [
      "Epoch 179/200: 100%|██████████| 391/391 [00:22<00:00, 17.33it/s, Loss=0.516, Acc=99.39%]\n"
     ]
    },
    {
     "name": "stdout",
     "output_type": "stream",
     "text": [
      "Epoch 179: Loss: 0.5164, Accuracy: 99.39%\n"
     ]
    },
    {
     "name": "stderr",
     "output_type": "stream",
     "text": [
      "Epoch 180/200: 100%|██████████| 391/391 [00:22<00:00, 17.49it/s, Loss=0.516, Acc=99.39%]\n"
     ]
    },
    {
     "name": "stdout",
     "output_type": "stream",
     "text": [
      "Epoch 180: Loss: 0.5155, Accuracy: 99.39%\n"
     ]
    },
    {
     "name": "stderr",
     "output_type": "stream",
     "text": [
      "Epoch 181/200: 100%|██████████| 391/391 [00:22<00:00, 17.26it/s, Loss=0.515, Acc=99.42%]\n"
     ]
    },
    {
     "name": "stdout",
     "output_type": "stream",
     "text": [
      "Epoch 181: Loss: 0.5154, Accuracy: 99.42%\n"
     ]
    },
    {
     "name": "stderr",
     "output_type": "stream",
     "text": [
      "Epoch 182/200: 100%|██████████| 391/391 [00:22<00:00, 17.45it/s, Loss=0.515, Acc=99.45%]\n"
     ]
    },
    {
     "name": "stdout",
     "output_type": "stream",
     "text": [
      "Epoch 182: Loss: 0.5147, Accuracy: 99.45%\n"
     ]
    },
    {
     "name": "stderr",
     "output_type": "stream",
     "text": [
      "Epoch 183/200: 100%|██████████| 391/391 [00:22<00:00, 17.34it/s, Loss=0.515, Acc=99.43%]\n"
     ]
    },
    {
     "name": "stdout",
     "output_type": "stream",
     "text": [
      "Epoch 183: Loss: 0.5149, Accuracy: 99.43%\n"
     ]
    },
    {
     "name": "stderr",
     "output_type": "stream",
     "text": [
      "Epoch 184/200: 100%|██████████| 391/391 [00:22<00:00, 17.33it/s, Loss=0.515, Acc=99.42%]\n"
     ]
    },
    {
     "name": "stdout",
     "output_type": "stream",
     "text": [
      "Epoch 184: Loss: 0.5152, Accuracy: 99.42%\n"
     ]
    },
    {
     "name": "stderr",
     "output_type": "stream",
     "text": [
      "Epoch 185/200: 100%|██████████| 391/391 [00:22<00:00, 17.56it/s, Loss=0.515, Acc=99.46%]\n"
     ]
    },
    {
     "name": "stdout",
     "output_type": "stream",
     "text": [
      "Epoch 185: Loss: 0.5151, Accuracy: 99.46%\n"
     ]
    },
    {
     "name": "stderr",
     "output_type": "stream",
     "text": [
      "Epoch 186/200: 100%|██████████| 391/391 [00:22<00:00, 17.06it/s, Loss=0.516, Acc=99.42%]\n"
     ]
    },
    {
     "name": "stdout",
     "output_type": "stream",
     "text": [
      "Epoch 186: Loss: 0.5156, Accuracy: 99.42%\n"
     ]
    },
    {
     "name": "stderr",
     "output_type": "stream",
     "text": [
      "Epoch 187/200: 100%|██████████| 391/391 [00:22<00:00, 17.47it/s, Loss=0.513, Acc=99.53%]\n"
     ]
    },
    {
     "name": "stdout",
     "output_type": "stream",
     "text": [
      "Epoch 187: Loss: 0.5126, Accuracy: 99.53%\n"
     ]
    },
    {
     "name": "stderr",
     "output_type": "stream",
     "text": [
      "Epoch 188/200: 100%|██████████| 391/391 [00:22<00:00, 17.46it/s, Loss=0.515, Acc=99.42%]\n"
     ]
    },
    {
     "name": "stdout",
     "output_type": "stream",
     "text": [
      "Epoch 188: Loss: 0.5147, Accuracy: 99.42%\n"
     ]
    },
    {
     "name": "stderr",
     "output_type": "stream",
     "text": [
      "Epoch 189/200: 100%|██████████| 391/391 [00:22<00:00, 17.26it/s, Loss=0.515, Acc=99.45%]\n"
     ]
    },
    {
     "name": "stdout",
     "output_type": "stream",
     "text": [
      "Epoch 189: Loss: 0.5147, Accuracy: 99.45%\n"
     ]
    },
    {
     "name": "stderr",
     "output_type": "stream",
     "text": [
      "Epoch 190/200: 100%|██████████| 391/391 [00:22<00:00, 17.49it/s, Loss=0.514, Acc=99.47%]\n"
     ]
    },
    {
     "name": "stdout",
     "output_type": "stream",
     "text": [
      "Epoch 190: Loss: 0.5143, Accuracy: 99.47%\n"
     ]
    },
    {
     "name": "stderr",
     "output_type": "stream",
     "text": [
      "Epoch 191/200: 100%|██████████| 391/391 [00:22<00:00, 17.30it/s, Loss=0.514, Acc=99.46%]\n"
     ]
    },
    {
     "name": "stdout",
     "output_type": "stream",
     "text": [
      "Epoch 191: Loss: 0.5137, Accuracy: 99.46%\n"
     ]
    },
    {
     "name": "stderr",
     "output_type": "stream",
     "text": [
      "Epoch 192/200: 100%|██████████| 391/391 [00:22<00:00, 17.25it/s, Loss=0.513, Acc=99.49%]\n"
     ]
    },
    {
     "name": "stdout",
     "output_type": "stream",
     "text": [
      "Epoch 192: Loss: 0.5131, Accuracy: 99.49%\n"
     ]
    },
    {
     "name": "stderr",
     "output_type": "stream",
     "text": [
      "Epoch 193/200: 100%|██████████| 391/391 [00:22<00:00, 17.65it/s, Loss=0.513, Acc=99.54%]\n"
     ]
    },
    {
     "name": "stdout",
     "output_type": "stream",
     "text": [
      "Epoch 193: Loss: 0.5126, Accuracy: 99.54%\n"
     ]
    },
    {
     "name": "stderr",
     "output_type": "stream",
     "text": [
      "Epoch 194/200: 100%|██████████| 391/391 [00:22<00:00, 17.33it/s, Loss=0.513, Acc=99.49%]\n"
     ]
    },
    {
     "name": "stdout",
     "output_type": "stream",
     "text": [
      "Epoch 194: Loss: 0.5133, Accuracy: 99.49%\n"
     ]
    },
    {
     "name": "stderr",
     "output_type": "stream",
     "text": [
      "Epoch 195/200: 100%|██████████| 391/391 [00:22<00:00, 17.39it/s, Loss=0.513, Acc=99.51%]\n"
     ]
    },
    {
     "name": "stdout",
     "output_type": "stream",
     "text": [
      "Epoch 195: Loss: 0.5130, Accuracy: 99.51%\n"
     ]
    },
    {
     "name": "stderr",
     "output_type": "stream",
     "text": [
      "Epoch 196/200: 100%|██████████| 391/391 [00:22<00:00, 17.40it/s, Loss=0.514, Acc=99.43%]\n"
     ]
    },
    {
     "name": "stdout",
     "output_type": "stream",
     "text": [
      "Epoch 196: Loss: 0.5139, Accuracy: 99.43%\n"
     ]
    },
    {
     "name": "stderr",
     "output_type": "stream",
     "text": [
      "Epoch 197/200: 100%|██████████| 391/391 [00:22<00:00, 17.74it/s, Loss=0.513, Acc=99.50%]\n"
     ]
    },
    {
     "name": "stdout",
     "output_type": "stream",
     "text": [
      "Epoch 197: Loss: 0.5135, Accuracy: 99.50%\n"
     ]
    },
    {
     "name": "stderr",
     "output_type": "stream",
     "text": [
      "Epoch 198/200: 100%|██████████| 391/391 [00:22<00:00, 17.40it/s, Loss=0.513, Acc=99.52%]\n"
     ]
    },
    {
     "name": "stdout",
     "output_type": "stream",
     "text": [
      "Epoch 198: Loss: 0.5130, Accuracy: 99.52%\n"
     ]
    },
    {
     "name": "stderr",
     "output_type": "stream",
     "text": [
      "Epoch 199/200: 100%|██████████| 391/391 [00:22<00:00, 17.46it/s, Loss=0.512, Acc=99.53%]\n"
     ]
    },
    {
     "name": "stdout",
     "output_type": "stream",
     "text": [
      "Epoch 199: Loss: 0.5122, Accuracy: 99.53%\n"
     ]
    },
    {
     "name": "stderr",
     "output_type": "stream",
     "text": [
      "Epoch 200/200: 100%|██████████| 391/391 [00:22<00:00, 17.61it/s, Loss=0.511, Acc=99.58%]\n"
     ]
    },
    {
     "name": "stdout",
     "output_type": "stream",
     "text": [
      "Epoch 200: Loss: 0.5110, Accuracy: 99.58%\n"
     ]
    },
    {
     "name": "stderr",
     "output_type": "stream",
     "text": [
      "Testing: 100%|██████████| 100/100 [00:02<00:00, 44.15it/s]"
     ]
    },
    {
     "name": "stdout",
     "output_type": "stream",
     "text": [
      "Test Accuracy: 89.25%\n"
     ]
    },
    {
     "name": "stderr",
     "output_type": "stream",
     "text": [
      "\n"
     ]
    }
   ],
   "source": [
    "\n",
    "criterion = nn.CrossEntropyLoss(label_smoothing=0.1)  # Label smoothing for regularization\n",
    "\n",
    "optimizer = optim.SGD(model.parameters(), \n",
    "                     lr=0.1, \n",
    "                     momentum=0.9, \n",
    "                     weight_decay=5e-4,\n",
    "                     nesterov=True)\n",
    "\n",
    "# Learning rate scheduler\n",
    "scheduler = optim.lr_scheduler.MultiStepLR(optimizer, \n",
    "                                          milestones=[60, 120, 160], \n",
    "                                          gamma=0.2)\n",
    "\n",
    "epochs = 200\n",
    "print(f\"Training for {epochs} epochs...\")\n",
    "\n",
    "# Train the model\n",
    "train_losses, train_accuracies = train_model(\n",
    "    model, trainloader, criterion, optimizer, scheduler, epochs=epochs\n",
    ")\n",
    "\n",
    "# Test the model\n",
    "test_accuracy = test_model(model, testloader)"
   ]
  },
  {
   "cell_type": "markdown",
   "metadata": {},
   "source": [
    "# Test the Model"
   ]
  },
  {
   "cell_type": "code",
   "execution_count": 118,
   "metadata": {
    "execution": {
     "iopub.execute_input": "2025-05-25T08:31:40.366133Z",
     "iopub.status.busy": "2025-05-25T08:31:40.365276Z",
     "iopub.status.idle": "2025-05-25T08:31:42.857741Z",
     "shell.execute_reply": "2025-05-25T08:31:42.856854Z",
     "shell.execute_reply.started": "2025-05-25T08:31:40.366102Z"
    },
    "trusted": true
   },
   "outputs": [
    {
     "name": "stdout",
     "output_type": "stream",
     "text": [
      "Testing Attention Augmented ResNet...\n"
     ]
    },
    {
     "name": "stderr",
     "output_type": "stream",
     "text": [
      "Testing: 100%|██████████| 100/100 [00:02<00:00, 40.28it/s]"
     ]
    },
    {
     "name": "stdout",
     "output_type": "stream",
     "text": [
      "Test Loss: 0.4563, Test Accuracy: 89.25%\n",
      "\n",
      "Per-class accuracy:\n",
      "plane: 91.50%\n",
      "car: 94.00%\n",
      "bird: 86.00%\n",
      "cat: 79.30%\n",
      "deer: 89.10%\n",
      "dog: 80.70%\n",
      "frog: 92.20%\n",
      "horse: 92.50%\n",
      "ship: 93.80%\n",
      "truck: 93.40%\n"
     ]
    },
    {
     "name": "stderr",
     "output_type": "stream",
     "text": [
      "\n"
     ]
    }
   ],
   "source": [
    "print(\"Testing Attention Augmented ResNet...\")\n",
    "# test_accuracy = test_model(model, testloader)\n",
    "test_loss, test_acc, class_correct, class_total = test_model(model, testloader)"
   ]
  },
  {
   "cell_type": "markdown",
   "metadata": {},
   "source": [
    "# Visualization of Results"
   ]
  },
  {
   "cell_type": "code",
   "execution_count": 119,
   "metadata": {
    "execution": {
     "iopub.execute_input": "2025-05-25T08:31:50.840935Z",
     "iopub.status.busy": "2025-05-25T08:31:50.840147Z",
     "iopub.status.idle": "2025-05-25T08:31:51.538770Z",
     "shell.execute_reply": "2025-05-25T08:31:51.537916Z",
     "shell.execute_reply.started": "2025-05-25T08:31:50.840902Z"
    },
    "trusted": true
   },
   "outputs": [
    {
     "data": {
      "image/png": "[encoded data removed]",
      "text/plain": [
       "<Figure size 1500x500 with 2 Axes>"
      ]
     },
     "metadata": {},
     "output_type": "display_data"
    },
    {
     "data": {
      "image/png": "[encoded data removed]",
      "text/plain": [
       "<Figure size 1200x600 with 1 Axes>"
      ]
     },
     "metadata": {},
     "output_type": "display_data"
    }
   ],
   "source": [
    "# Plot training curves\n",
    "fig, (ax1, ax2) = plt.subplots(1, 2, figsize=(15, 5))\n",
    "\n",
    "# Training loss\n",
    "ax1.plot(range(1, epochs+1), train_losses, 'b-', label='Training Loss')\n",
    "ax1.set_xlabel('Epoch')\n",
    "ax1.set_ylabel('Loss')\n",
    "ax1.set_title('Training Loss')\n",
    "ax1.grid(True)\n",
    "ax1.legend()\n",
    "\n",
    "# Training accuracy\n",
    "ax2.plot(range(1, epochs+1), train_accuracies, 'r-', label='Training Accuracy')\n",
    "ax2.set_xlabel('Epoch')\n",
    "ax2.set_ylabel('Accuracy (%)')\n",
    "ax2.set_title('Training Accuracy')\n",
    "ax2.grid(True)\n",
    "ax2.legend()\n",
    "\n",
    "plt.tight_layout()\n",
    "plt.show()\n",
    "\n",
    "# Class-wise accuracy visualization\n",
    "class_accuracies = [100 * class_correct[i] / class_total[i] if class_total[i] > 0 else 0 \n",
    "                   for i in range(10)]\n",
    "\n",
    "plt.figure(figsize=(12, 6))\n",
    "bars = plt.bar(classes, class_accuracies, color='skyblue', edgecolor='navy', alpha=0.7)\n",
    "plt.xlabel('Classes')\n",
    "plt.ylabel('Accuracy (%)')\n",
    "plt.title('Per-Class Test Accuracy - Attention Augmented ResNet')\n",
    "plt.xticks(rotation=45)\n",
    "plt.grid(True, alpha=0.3)\n",
    "\n",
    "# Add value labels on bars\n",
    "for bar, acc in zip(bars, class_accuracies):\n",
    "    plt.text(bar.get_x() + bar.get_width()/2, bar.get_height() + 0.5, \n",
    "             f'{acc:.1f}%', ha='center', va='bottom')\n",
    "\n",
    "plt.tight_layout()\n",
    "plt.show()"
   ]
  },
  {
   "cell_type": "code",
   "execution_count": 121,
   "metadata": {
    "execution": {
     "iopub.execute_input": "2025-05-25T08:32:20.490798Z",
     "iopub.status.busy": "2025-05-25T08:32:20.490424Z",
     "iopub.status.idle": "2025-05-25T08:32:21.386081Z",
     "shell.execute_reply": "2025-05-25T08:32:21.385380Z",
     "shell.execute_reply.started": "2025-05-25T08:32:20.490773Z"
    },
    "trusted": true
   },
   "outputs": [
    {
     "name": "stdout",
     "output_type": "stream",
     "text": [
      "Visualizing attention maps...\n"
     ]
    },
    {
     "data": {
      "image/png": "[encoded data removed]",
      "text/plain": [
       "<Figure size 1600x800 with 8 Axes>"
      ]
     },
     "metadata": {},
     "output_type": "display_data"
    }
   ],
   "source": [
    "def visualize_attention_maps(model, dataloader, classes, num_samples=4):\n",
    "    \"\"\"Visualize attention maps from the model\"\"\"\n",
    "    model.eval()\n",
    "    \n",
    "    # Get a batch of test images\n",
    "    dataiter = iter(dataloader)\n",
    "    images, labels = next(dataiter)\n",
    "    images, labels = images[:num_samples].to(device), labels[:num_samples]\n",
    "    \n",
    "    # Hook to capture attention weights\n",
    "    attention_maps = []\n",
    "    \n",
    "    def hook_fn(module, input, output):\n",
    "        if hasattr(module, 'attention_weights'):  # This would need to be implemented\n",
    "            attention_maps.append(module.attention_weights.detach().cpu())\n",
    "    \n",
    "    # Note: For full attention visualization, we'd need to modify the AA conv module\n",
    "    # to store attention weights. This is a simplified version showing the concept.\n",
    "    \n",
    "    with torch.no_grad():\n",
    "        outputs = model(images)\n",
    "        _, predicted = outputs.max(1)\n",
    "    \n",
    "    # Denormalize images for visualization\n",
    "    mean = torch.tensor([0.4914, 0.4822, 0.4465]).view(1, 3, 1, 1)\n",
    "    std = torch.tensor([0.2023, 0.1994, 0.2010]).view(1, 3, 1, 1)\n",
    "    images_viz = images.cpu() * std + mean\n",
    "    images_viz = torch.clamp(images_viz, 0, 1)\n",
    "    \n",
    "    # Plot original images with predictions\n",
    "    fig, axes = plt.subplots(2, num_samples, figsize=(16, 8))\n",
    "    \n",
    "    for i in range(num_samples):\n",
    "        # Original image\n",
    "        axes[0, i].imshow(np.transpose(images_viz[i], (1, 2, 0)))\n",
    "        axes[0, i].set_title(f'True: {classes[labels[i]]}\\nPred: {classes[predicted[i]]}')\n",
    "        axes[0, i].axis('off')\n",
    "        \n",
    "        # Attention heatmap (simulated for demonstration)\n",
    "        # In practice, you'd extract real attention weights from the model\n",
    "        heatmap = np.random.rand(32, 32)  # Simulated attention map\n",
    "        axes[1, i].imshow(heatmap, cmap='hot', interpolation='nearest')\n",
    "        axes[1, i].set_title('Attention Map (Simulated)')\n",
    "        axes[1, i].axis('off')\n",
    "    \n",
    "    axes[0, 0].set_ylabel('Original Images', rotation=90, size='large')\n",
    "    axes[1, 0].set_ylabel('Attention Maps', rotation=90, size='large')\n",
    "    \n",
    "    plt.tight_layout()\n",
    "    plt.show()\n",
    "\n",
    "print(\"Visualizing attention maps...\")\n",
    "visualize_attention_maps(model, testloader, classes)"
   ]
  },
  {
   "cell_type": "markdown",
   "metadata": {},
   "source": [
    "# Results"
   ]
  },
  {
   "cell_type": "code",
   "execution_count": null,
   "metadata": {
    "execution": {
     "iopub.execute_input": "2025-05-25T08:34:07.194246Z",
     "iopub.status.busy": "2025-05-25T08:34:07.193949Z",
     "iopub.status.idle": "2025-05-25T08:34:07.388086Z",
     "shell.execute_reply": "2025-05-25T08:34:07.387410Z",
     "shell.execute_reply.started": "2025-05-25T08:34:07.194225Z"
    },
    "trusted": true
   },
   "outputs": [
    {
     "name": "stdout",
     "output_type": "stream",
     "text": [
      "Model saved to attention_augmented_resnet50.pth\n",
      "\n",
      "============================================================\n",
      "ATTENTION AUGMENTED CONVOLUTIONAL NETWORKS - SUMMARY REPORT\n",
      "============================================================\n",
      "Final Test Accuracy: 89.25%\n",
      "Total Parameters: 13,128,770\n",
      "Training Epochs: 200\n",
      "Best Training Accuracy: 99.58%\n",
      "Final Training Loss: 0.5110\n",
      "============================================================\n"
     ]
    }
   ],
   "source": [
    "# Save the trained model\n",
    "model_save_path = 'attention_augmented_resnet18.pth'\n",
    "torch.save({\n",
    "    'model_state_dict': aa_resnet.state_dict(),\n",
    "    'optimizer_state_dict': optimizer.state_dict(),\n",
    "    'train_losses': train_losses,\n",
    "    'train_accuracies': train_accuracies,\n",
    "    'test_accuracy': test_acc,\n",
    "    'hyperparameters': {\n",
    "        'learning_rate': learning_rate,\n",
    "        'momentum': momentum,\n",
    "        'weight_decay': weight_decay,\n",
    "        'epochs': epochs,\n",
    "        'v': 0.2,\n",
    "        'k': 0.2\n",
    "    }\n",
    "}, model_save_path)\n",
    "\n",
    "print(f\"Model saved to {model_save_path}\")\n",
    "\n",
    "# Create a summary report\n",
    "print(\"\\n\" + \"=\"*60)\n",
    "print(\"ATTENTION AUGMENTED CONVOLUTIONAL NETWORKS - SUMMARY REPORT\")\n",
    "print(\"=\"*60)\n",
    "print(f\"Final Test Accuracy: {test_acc:.2f}%\")\n",
    "print(f\"Total Parameters: {count_parameters(aa_resnet):,}\")\n",
    "print(f\"Training Epochs: {epochs}\")\n",
    "print(f\"Best Training Accuracy: {max(train_accuracies):.2f}%\")\n",
    "print(f\"Final Training Loss: {train_losses[-1]:.4f}\")\n",
    "print(\"=\"*60)"
   ]
  }
 ],
 "metadata": {
  "kaggle": {
   "accelerator": "nvidiaTeslaT4",
   "dataSources": [
    {
     "datasetId": 1261427,
     "sourceId": 2102859,
     "sourceType": "datasetVersion"
    },
    {
     "datasetId": 7506755,
     "sourceId": 11940751,
     "sourceType": "datasetVersion"
    }
   ],
   "dockerImageVersionId": 31041,
   "isGpuEnabled": true,
   "isInternetEnabled": true,
   "language": "python",
   "sourceType": "notebook"
  },
  "kernelspec": {
   "display_name": "Python 3",
   "language": "python",
   "name": "python3"
  },
  "language_info": {
   "codemirror_mode": {
    "name": "ipython",
    "version": 3
   },
   "file_extension": ".py",
   "mimetype": "text/x-python",
   "name": "python",
   "nbconvert_exporter": "python",
   "pygments_lexer": "ipython3",
   "version": "3.11.11"
  }
 },
 "nbformat": 4,
 "nbformat_minor": 4
}
